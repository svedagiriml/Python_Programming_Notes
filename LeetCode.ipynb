{
 "cells": [
  {
   "cell_type": "code",
   "execution_count": 2,
   "metadata": {},
   "outputs": [
    {
     "name": "stdout",
     "output_type": "stream",
     "text": [
      "flower\n",
      "fa\n",
      "flower\n",
      "fl\n"
     ]
    },
    {
     "data": {
      "text/plain": [
       "'fl'"
      ]
     },
     "execution_count": 2,
     "metadata": {},
     "output_type": "execute_result"
    }
   ],
   "source": [
    "strs1 = [\"flower\",\"fa\",\"aght\"]\n",
    "strs2 = [\"flower\", \"fla\", \"fl\"]\n",
    "def longestCommonPrefix(strs):\n",
    "    if len(strs) == 0:\n",
    "            return \"\"\n",
    "    else:\n",
    "        s1, s2 = max(strs,key=len), min(strs,key=len)\n",
    "        print(s1)\n",
    "        print(s2)\n",
    "        i, match = 0, 0\n",
    "        while i < len(s1) and i < len(s2) and s1[i] == s2[i]:\n",
    "            i, match = i+1, match + 1\n",
    "        return s1[0:match]\n",
    "          \n",
    "            \n",
    "longestCommonPrefix(strs1)\n",
    "longestCommonPrefix(strs2)"
   ]
  },
  {
   "cell_type": "code",
   "execution_count": 28,
   "metadata": {},
   "outputs": [
    {
     "data": {
      "text/plain": [
       "3"
      ]
     },
     "execution_count": 28,
     "metadata": {},
     "output_type": "execute_result"
    }
   ],
   "source": [
    "nums = [1,3,5,6]\n",
    "target = 5.5\n",
    "y=len(nums)\n",
    "def searchInsert(nums, target):\n",
    "    for i in range(len(nums)):\n",
    "        if target == nums[i]:\n",
    "            return i\n",
    "        elif (target > nums[i]) and (target < nums[i+1]):\n",
    "            #nums.insert(i+1, target)\n",
    "            return i+1   #,nums\n",
    "        \n",
    "                                          \n",
    "\n",
    "searchInsert(nums,target)"
   ]
  },
  {
   "cell_type": "code",
   "execution_count": 4,
   "metadata": {},
   "outputs": [
    {
     "data": {
      "text/plain": [
       "False"
      ]
     },
     "execution_count": 4,
     "metadata": {},
     "output_type": "execute_result"
    }
   ],
   "source": [
    "s = \"()({([])})\"\n",
    "\n",
    "def isValid(s):\n",
    "    dict = {')':'(', ']':'[','}':'{'}\n",
    "    st = [char for char in s]\n",
    "    for sym in st:\n",
    "        if sym != dict[st.pop(-1)]:\n",
    "            return False\n",
    "        \n",
    "    return True\n",
    "    \n",
    "isValid(s)"
   ]
  },
  {
   "cell_type": "code",
   "execution_count": 56,
   "metadata": {},
   "outputs": [
    {
     "data": {
      "text/plain": [
       "(1, 2)"
      ]
     },
     "execution_count": 56,
     "metadata": {},
     "output_type": "execute_result"
    }
   ],
   "source": [
    "nums = [2,7,11,15]\n",
    "target = 18\n",
    "#Output: [0,1]\n",
    "#Output: Because nums[0] + nums[1] == 9, we return [0, 1].\n",
    "def twonum(nums,target):\n",
    "    \n",
    "    for i in range(len(nums)-1):\n",
    "        for j in range(1,len(nums)):\n",
    "            if nums[i]+nums[j] == target:\n",
    "                return i,j\n",
    "                break\n",
    "                   \n",
    "twonum(nums,target)"
   ]
  },
  {
   "cell_type": "code",
   "execution_count": 1,
   "metadata": {},
   "outputs": [
    {
     "name": "stdout",
     "output_type": "stream",
     "text": [
      "['ada', 'aa', 'abbba', 'bbb', 'bb']\n"
     ]
    },
    {
     "data": {
      "text/plain": [
       "'abbba'"
      ]
     },
     "execution_count": 1,
     "metadata": {},
     "output_type": "execute_result"
    }
   ],
   "source": [
    "#Given a string s, return the longest palindromic substring in s.\n",
    "#Input: s = \"babad\"\n",
    "#Output: \"bab\"\n",
    "#Note: \"aba\" is also a valid answer.\n",
    "s=\"badaabbba\"\n",
    "def longestPalindrome(s):\n",
    "    l=[]\n",
    "    i=0\n",
    "    for i in range(len(s)):\n",
    "        for j in range(len(s), i+1 , -1):\n",
    "            s1 = s[i:j]\n",
    "            if s1 == s1[::-1]:\n",
    "                l.append(s1)\n",
    "                break\n",
    "            j -= 1\n",
    "    print(l)\n",
    "    \n",
    "    return max(l, key=len)  \n",
    "longestPalindrome(s)\n",
    "            "
   ]
  },
  {
   "cell_type": "code",
   "execution_count": 50,
   "metadata": {},
   "outputs": [
    {
     "name": "stdout",
     "output_type": "stream",
     "text": [
      "amanaplanacanalpanama\n"
     ]
    },
    {
     "data": {
      "text/plain": [
       "True"
      ]
     },
     "execution_count": 50,
     "metadata": {},
     "output_type": "execute_result"
    }
   ],
   "source": [
    "#ValidPalindrome\n",
    "#Input: s = \"A man, a plan, a canal: Panama\"\n",
    "#Output: true\n",
    "#Explanation: \"amanaplanacanalpanama\" is a palindrome.\n",
    "s = \"A man, a plan, a canal: Panama\"\n",
    "def palindrome(s):\n",
    "    str = \"\".join([letter.lower() for letter in s if letter.isalpha()])\n",
    "    print(str)\n",
    "    return str == str[::-1]\n",
    "palindrome(s)"
   ]
  },
  {
   "cell_type": "code",
   "execution_count": 5,
   "metadata": {},
   "outputs": [
    {
     "name": "stdout",
     "output_type": "stream",
     "text": [
      "flower\n",
      "flight\n"
     ]
    },
    {
     "data": {
      "text/plain": [
       "'fl'"
      ]
     },
     "execution_count": 5,
     "metadata": {},
     "output_type": "execute_result"
    }
   ],
   "source": [
    "strs1 = [\"flower\",\"flo\",\"flight\"]\n",
    "def longestCommonPrefix(strs):\n",
    "    if len(strs) == 0:\n",
    "            return \"\"\n",
    "    else:\n",
    "        s1, s2 = max(strs), min(strs)\n",
    "        print(s1)\n",
    "        print(s2)\n",
    "        i=0\n",
    "        l=[]\n",
    "        n = min(len(s1), len(s2))\n",
    "        for i  in range(n):\n",
    "            if s1[i]==s2[i]:\n",
    "                l.append(s1[i])\n",
    "            else:\n",
    "                break\n",
    "           \n",
    "        return(\"\".join(l))\n",
    "        #i, match = 0, 0\n",
    "        #while i < len(s1) and i < len(s2) and s1[i] == s2[i]:\n",
    "            #i, match = i+1, match + 1\n",
    "        #return s1[0:match]\n",
    "          \n",
    "            \n",
    "longestCommonPrefix(strs1)"
   ]
  },
  {
   "cell_type": "code",
   "execution_count": 26,
   "metadata": {},
   "outputs": [
    {
     "data": {
      "text/plain": [
       "[[1], [1, 1], [1, 2, 1], [1, 3, 3, 1], [1, 4, 6, 4, 1]]"
      ]
     },
     "execution_count": 26,
     "metadata": {},
     "output_type": "execute_result"
    }
   ],
   "source": [
    "#Input: numRows = 5\n",
    "#Output: [[1],[1,1],[1,2,1],[1,3,3,1],[1,4,6,4,1]]\n",
    "numRows=5\n",
    "def generate(numRows):\n",
    "    for i in range(numRows):\n",
    "        if i==0:\n",
    "            op = [[1]]\n",
    "        elif i==1:\n",
    "            op = [[1],[1,1]]\n",
    "        else:\n",
    "            l=[]\n",
    "            l.append(1)\n",
    "            for j in range(i,1,-1):\n",
    "                l.append(op[i-1][i-j]+op[i-1][i-j+1])\n",
    "            \n",
    "            l.append(1)            \n",
    "            op.append(l)\n",
    "    return op\n",
    "generate(numRows)"
   ]
  },
  {
   "cell_type": "code",
   "execution_count": 22,
   "metadata": {},
   "outputs": [
    {
     "name": "stdout",
     "output_type": "stream",
     "text": [
      "[2, 2, 4, 7, 4, 5, 7, 6, 5]\n",
      "9\n",
      "[2, 2, 4, 7, 4, 5, 7, 6, 5]\n",
      "1\n",
      "2\n",
      "2\n",
      "[4, 7, 4, 5, 7, 6, 5]\n",
      "7\n",
      "7\n",
      "[4, 7, 4, 5, 7, 6, 5]\n",
      "1\n",
      "4\n",
      "7\n",
      "2\n",
      "4\n",
      "4\n",
      "[7, 5, 7, 6, 5]\n",
      "5\n",
      "5\n",
      "[7, 5, 7, 6, 5]\n",
      "1\n",
      "7\n",
      "5\n",
      "2\n",
      "7\n",
      "7\n",
      "[5, 6, 5]\n",
      "3\n",
      "3\n",
      "[5, 6, 5]\n",
      "1\n",
      "5\n",
      "6\n",
      "2\n",
      "5\n",
      "5\n",
      "[6]\n",
      "1\n"
     ]
    },
    {
     "data": {
      "text/plain": [
       "[6]"
      ]
     },
     "execution_count": 22,
     "metadata": {},
     "output_type": "execute_result"
    }
   ],
   "source": [
    "#Given a non-empty array of integers nums, every element appears twice except for one. Find that single one.\n",
    "#Input: nums = [4,1,2,1,2]\n",
    "#Output: 4\n",
    "nums = [2,2,4,7,4,5,7,6,5]\n",
    "def singleNumber(nums):\n",
    "    length1=len(nums)\n",
    "    length2=len(set(nums))\n",
    "    print(nums)\n",
    "    i=0\n",
    "    for i in range(length1-length2):\n",
    "        print(length1)\n",
    "        print(nums)\n",
    "        n=0 \n",
    "        j=1\n",
    "        for j in range(1,length1):\n",
    "            \n",
    "            print(j)\n",
    "            print(nums[n])\n",
    "            print(nums[j])\n",
    "            if nums[n]==nums[j]:\n",
    "                nums.remove(nums[n])\n",
    "                nums.remove(nums[j-1])\n",
    "                length1=len(nums)\n",
    "                print(nums)\n",
    "                print(length1)\n",
    "                if length1==1:\n",
    "                    return nums\n",
    "                break\n",
    "        continue  \n",
    "       \n",
    "singleNumber(nums) "
   ]
  },
  {
   "cell_type": "code",
   "execution_count": 13,
   "metadata": {},
   "outputs": [
    {
     "name": "stdout",
     "output_type": "stream",
     "text": [
      "amanaplanacanalpanama\n",
      "True\n",
      "raceacar\n",
      "False\n",
      "\n",
      "True\n"
     ]
    }
   ],
   "source": [
    "'''A phrase is a palindrome if, after converting all uppercase letters into lowercase letters and removing all non-alphanumeric \n",
    "characters, it reads the same forward and backward. Alphanumeric characters include letters and numbers.\n",
    "\n",
    "Given a string s, return true if it is a palindrome, or false otherwise.\n",
    "\n",
    "Example 1:\n",
    "\n",
    "Input: s = \"A man, a plan, a canal: Panama\"\n",
    "Output: true\n",
    "Explanation: \"amanaplanacanalpanama\" is a palindrome.\n",
    "\n",
    "Example 2:\n",
    "\n",
    "Input: s = \"race a car\"\n",
    "Output: false\n",
    "Explanation: \"raceacar\" is not a palindrome.\n",
    "\n",
    "Example 3:\n",
    "\n",
    "Input: s = \" \"\n",
    "Output: true\n",
    "Explanation: s is an empty string \"\" after removing non-alphanumeric characters.\n",
    "Since an empty string reads the same forward and backward, it is a palindrome.\n",
    "'''\n",
    "s1 = \"A man, a plan, a canal: Panama\"\n",
    "s2 = \"race a car\"\n",
    "s3 = \" \"\n",
    "import re\n",
    "def ispalindrome(s):\n",
    "    regex = re.compile('[^a-zA-Z]')\n",
    "    s = regex.sub('',s.lower())\n",
    "    print(s)\n",
    "    return s == s[::-1]\n",
    "    #if s == s[::-1]:\n",
    "     #   return True\n",
    "    #else:\n",
    "     #   return False\n",
    "    \n",
    "print(ispalindrome(s1))\n",
    "print(ispalindrome(s2))\n",
    "print(ispalindrome(s3))\n",
    "    "
   ]
  },
  {
   "cell_type": "code",
   "execution_count": 25,
   "metadata": {},
   "outputs": [
    {
     "data": {
      "text/plain": [
       "True"
      ]
     },
     "execution_count": 25,
     "metadata": {},
     "output_type": "execute_result"
    }
   ],
   "source": [
    "s = \"{()}({({[]})})\"\n",
    "\n",
    "def isValid(s):\n",
    "    left = ['(','[','{']\n",
    "    right = [')',']','}']\n",
    "    dict_l ={'(':')','[':']','{':'}'}\n",
    "    stack =[]\n",
    "    for char in s:\n",
    "        if char in left:\n",
    "            stack.append(char)\n",
    "            pos = s.index(char)+1\n",
    "        elif char in right:\n",
    "            if len(stack) > 0 and s[pos]==dict_l[stack.pop()]:\n",
    "                pos = pos+1\n",
    "                continue\n",
    "            else:         \n",
    "                return False\n",
    "    return True\n",
    "            \n",
    "     \n",
    "    \n",
    "isValid(s)"
   ]
  },
  {
   "cell_type": "code",
   "execution_count": 6,
   "metadata": {},
   "outputs": [
    {
     "name": "stdout",
     "output_type": "stream",
     "text": [
      "[('foo', 'bar'), ('bar', 'foo')]\n",
      "2\n",
      "['foobar', 'barfoo']\n"
     ]
    },
    {
     "data": {
      "text/plain": [
       "[9, 0]"
      ]
     },
     "execution_count": 6,
     "metadata": {},
     "output_type": "execute_result"
    }
   ],
   "source": [
    "s = \"barfoothefoobarman\"\n",
    "words = [\"foo\",\"bar\"]\n",
    "from itertools import permutations\n",
    "def findSubstring(s, words):\n",
    "    op= []\n",
    "    search_words=[]\n",
    "    new_words=list(permutations(words))\n",
    "    print(new_words)\n",
    "    print(len(new_words))\n",
    "    for j in range(len(new_words)):\n",
    "        search_words.append(new_words[j][0]+new_words[j][1])\n",
    "    print(search_words)\n",
    "    for i in range(len(search_words)):\n",
    "        indices=s.find(search_words[i])\n",
    "        op.append(indices)\n",
    "    return op\n",
    "\n",
    "findSubstring(s,words)"
   ]
  },
  {
   "cell_type": "code",
   "execution_count": 21,
   "metadata": {},
   "outputs": [
    {
     "name": "stdout",
     "output_type": "stream",
     "text": [
      "foo\n",
      "bar\n",
      "barfoo\n",
      "bar\n",
      "foo\n",
      "foobar\n",
      "['barfoo', 'foobar']\n",
      "[0, 9]\n",
      "word\n",
      "good\n",
      "best\n",
      "word\n",
      "wordbestgoodword\n",
      "word\n",
      "good\n",
      "word\n",
      "best\n",
      "bestwordgoodword\n",
      "word\n",
      "best\n",
      "good\n",
      "word\n",
      "wordgoodbestword\n",
      "word\n",
      "best\n",
      "word\n",
      "good\n",
      "goodwordbestword\n",
      "word\n",
      "word\n",
      "good\n",
      "best\n",
      "bestgoodwordword\n",
      "word\n",
      "word\n",
      "best\n",
      "good\n",
      "goodbestwordword\n",
      "good\n",
      "word\n",
      "best\n",
      "word\n",
      "wordbestwordgood\n",
      "good\n",
      "word\n",
      "word\n",
      "best\n",
      "bestwordwordgood\n",
      "good\n",
      "best\n",
      "word\n",
      "word\n",
      "wordwordbestgood\n",
      "good\n",
      "best\n",
      "word\n",
      "word\n",
      "wordwordbestgood\n",
      "good\n",
      "word\n",
      "word\n",
      "best\n",
      "bestwordwordgood\n",
      "good\n",
      "word\n",
      "best\n",
      "word\n",
      "wordbestwordgood\n",
      "best\n",
      "word\n",
      "good\n",
      "word\n",
      "wordgoodwordbest\n",
      "best\n",
      "word\n",
      "word\n",
      "good\n",
      "goodwordwordbest\n",
      "best\n",
      "good\n",
      "word\n",
      "word\n",
      "wordwordgoodbest\n",
      "best\n",
      "good\n",
      "word\n",
      "word\n",
      "wordwordgoodbest\n",
      "best\n",
      "word\n",
      "word\n",
      "good\n",
      "goodwordwordbest\n",
      "best\n",
      "word\n",
      "good\n",
      "word\n",
      "wordgoodwordbest\n",
      "word\n",
      "word\n",
      "good\n",
      "best\n",
      "bestgoodwordword\n",
      "word\n",
      "word\n",
      "best\n",
      "good\n",
      "goodbestwordword\n",
      "word\n",
      "good\n",
      "word\n",
      "best\n",
      "bestwordgoodword\n",
      "word\n",
      "good\n",
      "best\n",
      "word\n",
      "wordbestgoodword\n",
      "word\n",
      "best\n",
      "word\n",
      "good\n",
      "goodwordbestword\n",
      "word\n",
      "best\n",
      "good\n",
      "word\n",
      "wordgoodbestword\n",
      "['wordbestgoodword', 'bestwordgoodword', 'wordgoodbestword', 'goodwordbestword', 'bestgoodwordword', 'goodbestwordword', 'wordbestwordgood', 'bestwordwordgood', 'wordwordbestgood', 'wordwordbestgood', 'bestwordwordgood', 'wordbestwordgood', 'wordgoodwordbest', 'goodwordwordbest', 'wordwordgoodbest', 'wordwordgoodbest', 'goodwordwordbest', 'wordgoodwordbest', 'bestgoodwordword', 'goodbestwordword', 'bestwordgoodword', 'wordbestgoodword', 'goodwordbestword', 'wordgoodbestword']\n",
      "[]\n",
      "bar\n",
      "foo\n",
      "the\n",
      "thefoobar\n",
      "bar\n",
      "the\n",
      "foo\n",
      "foothebar\n",
      "foo\n",
      "bar\n",
      "the\n",
      "thebarfoo\n",
      "foo\n",
      "the\n",
      "bar\n",
      "barthefoo\n",
      "the\n",
      "bar\n",
      "foo\n",
      "foobarthe\n",
      "the\n",
      "foo\n",
      "bar\n",
      "barfoothe\n",
      "['thefoobar', 'foothebar', 'thebarfoo', 'barthefoo', 'foobarthe', 'barfoothe']\n",
      "[12, 9, 6]\n"
     ]
    }
   ],
   "source": [
    "'''30. Substring with Concatenation of All Words\n",
    "\n",
    "You are given a string s and an array of strings words. All the strings of words are of the same length.\n",
    "\n",
    "A concatenated substring in s is a substring that contains all the strings of any permutation of words concatenated.\n",
    "\n",
    "For example, if words = [\"ab\",\"cd\",\"ef\"], then \"abcdef\", \"abefcd\", \"cdabef\", \"cdefab\", \"efabcd\", and \"efcdab\" are all concatenated strings. \"acdbef\" is not a concatenated substring because it is not the concatenation of any permutation of words.\n",
    "Return the starting indices of all the concatenated substrings in s. You can return the answer in any order.\n",
    "'''\n",
    "s1 = \"barfoothefoobarman\"\n",
    "words1 = [\"foo\",\"bar\"]\n",
    "s2 = \"wordgoodgoodgoodbestword\"\n",
    "words2 = [\"word\",\"good\",\"best\",\"word\"]\n",
    "s3 = \"barfoofoobarthefoobarman\" \n",
    "words3 = [\"bar\",\"foo\",\"the\"]\n",
    "\n",
    "from itertools import permutations\n",
    "\n",
    "def findSubstring(s, words):\n",
    "    op= []\n",
    "    search_words=[]\n",
    "    mid1=\"\"\n",
    "    new_words=list(permutations(words))\n",
    "    for j in range(len(new_words)):\n",
    "        for k in range(len(words)):\n",
    "            mid= new_words[j][k]\n",
    "            print(mid)\n",
    "            mid1=mid+mid1\n",
    "        \n",
    "        print(mid1)\n",
    "        search_words.append(mid1)\n",
    "        mid1=\"\"\n",
    "    print(search_words)\n",
    "    for i in range(len(search_words)):\n",
    "        indices=s.find(search_words[i])\n",
    "        if not indices == -1:\n",
    "            op.append(indices)\n",
    "    return op\n",
    "print(findSubstring(s1,words1))\n",
    "print(findSubstring(s2,words2))\n",
    "print(findSubstring(s3,words3))"
   ]
  },
  {
   "cell_type": "code",
   "execution_count": 29,
   "metadata": {},
   "outputs": [
    {
     "name": "stdout",
     "output_type": "stream",
     "text": [
      "d3chgb\n",
      "hj#ytg%h\n"
     ]
    }
   ],
   "source": [
    "'''Reverse string without non letters symbol\n",
    "Input string:\n",
    "b3ghcd \n",
    "hg#tyj%h\n",
    "Expected output string:\n",
    "d3chgb \n",
    "hj#ytg%h\n",
    "'''\n",
    "s1= 'b3ghcd'\n",
    "s2= 'hg#tyj%h'\n",
    "def reverse_string(s):\n",
    "    list1 = [letter for letter in s]\n",
    "    l,r = 0, len(s)-1\n",
    "    while l < r:\n",
    "        if list1[l].isalpha() and list1[r].isalpha():\n",
    "            temp=list1[l]\n",
    "            list1[l]=list1[r]\n",
    "            list1[r]=temp\n",
    "            l=l+1\n",
    "            r=r-1\n",
    "        elif list1[l].isalpha() and not(list1[r].isalpha()):\n",
    "            r=r-1\n",
    "        else:\n",
    "            l =l + 1\n",
    "    return \"\".join(list1)\n",
    "\n",
    "print(reverse_string(s1))\n",
    "print(reverse_string(s2))\n",
    "            "
   ]
  },
  {
   "cell_type": "code",
   "execution_count": 13,
   "metadata": {},
   "outputs": [
    {
     "name": "stdout",
     "output_type": "stream",
     "text": [
      "6\n"
     ]
    }
   ],
   "source": [
    "#Function to return factorial of a given number using for loop\n",
    "def factorial(n):\n",
    "    factorial_op=1\n",
    "    for i in range(1, n+1):\n",
    "        factorial_op = factorial_op * i\n",
    "    return factorial_op\n",
    "print(factorial(3))"
   ]
  },
  {
   "cell_type": "code",
   "execution_count": 16,
   "metadata": {},
   "outputs": [
    {
     "name": "stdout",
     "output_type": "stream",
     "text": [
      "1\n"
     ]
    }
   ],
   "source": [
    "#Function to return factorial of a given number using recursion\n",
    "def factorial(n: int) -> int:\n",
    "    if n == 0:\n",
    "        return 1\n",
    "    return n*factorial(n-1)\n",
    "print(factorial(1))"
   ]
  },
  {
   "cell_type": "code",
   "execution_count": null,
   "metadata": {},
   "outputs": [],
   "source": []
  }
 ],
 "metadata": {
  "kernelspec": {
   "display_name": "Python 3 (ipykernel)",
   "language": "python",
   "name": "python3"
  },
  "language_info": {
   "codemirror_mode": {
    "name": "ipython",
    "version": 3
   },
   "file_extension": ".py",
   "mimetype": "text/x-python",
   "name": "python",
   "nbconvert_exporter": "python",
   "pygments_lexer": "ipython3",
   "version": "3.10.9"
  }
 },
 "nbformat": 4,
 "nbformat_minor": 2
}
