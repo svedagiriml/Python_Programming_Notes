{
 "cells": [
  {
   "cell_type": "code",
   "execution_count": 14,
   "metadata": {},
   "outputs": [
    {
     "name": "stdout",
     "output_type": "stream",
     "text": [
      "[1, 3]\n"
     ]
    }
   ],
   "source": [
    "'''Two Sum\n",
    "Given an array of integers nums and an integer target, return indices of the two numbers such that they add up to target.\n",
    "\n",
    "You may assume that each input would have exactly one solution, and you may not use the same element twice.\n",
    "\n",
    "You can return the answer in any order.\n",
    "\n",
    "\n",
    "Example 1:\n",
    "\n",
    "Input: nums = [2,7,11,15], target = 9\n",
    "Output: [0,1]\n",
    "Explanation: Because nums[0] + nums[1] == 9, we return [0, 1].\n",
    "Example 2:\n",
    "\n",
    "Input: nums = [3,2,4], target = 6\n",
    "Output: [1,2]\n",
    "Example 3:\n",
    "\n",
    "Input: nums = [3,3], target = 6\n",
    "Output: [0,1]\n",
    "'''\n",
    "nums=[2,7,11,15]\n",
    "target=22\n",
    "def twoSum(nums, target: int):\n",
    "    \n",
    "    for i in range(len(nums)-1):\n",
    "        for j in range(i+1,len(nums)):\n",
    "            if target == nums[i]+nums[j]:\n",
    "                return [i,j]\n",
    "        \n",
    "\n",
    "print(twoSum(nums,target))\n"
   ]
  },
  {
   "cell_type": "code",
   "execution_count": 15,
   "metadata": {},
   "outputs": [
    {
     "data": {
      "text/plain": [
       "[1, 3]"
      ]
     },
     "execution_count": 15,
     "metadata": {},
     "output_type": "execute_result"
    }
   ],
   "source": [
    "'''Two Sum using HashMap O(n) time complexity'''\n",
    "nums = [1,2,4,5,8]\n",
    "target=7\n",
    "\n",
    "class Solution:\n",
    "    def twoSum(self, nums, target: int):\n",
    "        hashMap = {} # value, index\n",
    "        for i, num in enumerate(nums):\n",
    "            diff = target - num\n",
    "            if diff in hashMap:\n",
    "                return [hashMap[diff],i]\n",
    "            else:\n",
    "                hashMap[num] = i\n",
    "\n",
    "Sol=Solution()\n",
    "Sol.twoSum(nums, target)\n",
    "            "
   ]
  },
  {
   "cell_type": "code",
   "execution_count": 43,
   "metadata": {},
   "outputs": [
    {
     "name": "stdout",
     "output_type": "stream",
     "text": [
      "[-6, -2, -4, -1, -3, 4, 2, 5, 3, -2, 1, -1, 3, 1, -2]\n",
      "5\n",
      "{-6: [0, 1], -2: [4, 5], -4: [0, 3], -1: [2, 5], -3: [0, 5], 4: [1, 2], 2: [1, 3], 5: [1, 4], 3: [3, 4], 1: [3, 5]}\n",
      "(5, [1, 4])\n"
     ]
    }
   ],
   "source": [
    "'''\n",
    "Best Time to Buy and Sell Stock ## SLIDING WINDOW\n",
    "\n",
    "You are given an array prices where prices[i] is the price of a given stock on the ith day.\n",
    "\n",
    "You want to maximize your profit by choosing a single day to buy one stock and choosing a different day in the future to sell that stock.\n",
    "\n",
    "Return the maximum profit you can achieve from this transaction. If you cannot achieve any profit, return 0.\n",
    "\n",
    " \n",
    "\n",
    "Example 1:\n",
    "\n",
    "Input: prices = [7,1,5,3,6,4]\n",
    "Output: 5\n",
    "Explanation: Buy on day 2 (price = 1) and sell on day 5 (price = 6), profit = 6-1 = 5.\n",
    "Note that buying on day 2 and selling on day 1 is not allowed because you must buy before you sell.\n",
    "Example 2:\n",
    "\n",
    "Input: prices = [7,6,4,3,1]\n",
    "Output: 0\n",
    "Explanation: In this case, no transactions are done and the max profit = 0.\n",
    "'''\n",
    "prices = [7,1,5,3,6,4]\n",
    "class Solution:\n",
    "    def maxProfit(self, prices: list[int]) -> int:\n",
    "        op =[]\n",
    "        for i in range(len(prices)-1):\n",
    "            j=i+1\n",
    "            for j in range(j,len(prices)):\n",
    "                op.append(prices[j]-prices[i])\n",
    "        print(op)\n",
    "        return max(op)\n",
    "\n",
    "Sol=Solution()\n",
    "print(Sol.maxProfit(prices))\n",
    "\n",
    "class Solutionnew:\n",
    "    def maxProfitnew(self, prices: list[int]) -> int:\n",
    "        op ={}   # Price: indices as list\n",
    "        for i in range(len(prices)-1):\n",
    "            j=i+1\n",
    "            for j in range(j,len(prices)):\n",
    "                op[prices[j]-prices[i]]= list([i,j])\n",
    "        print(op)\n",
    "        return max(op), op[max(op)]\n",
    "\n",
    "#Sol=Solution()\n",
    "#Sol.maxProfit(prices)\n",
    "\n",
    "Sol1=Solutionnew()\n",
    "print(Sol1.maxProfitnew(prices))"
   ]
  },
  {
   "cell_type": "code",
   "execution_count": 34,
   "metadata": {},
   "outputs": [
    {
     "name": "stdout",
     "output_type": "stream",
     "text": [
      "4\n",
      "4\n",
      "5\n"
     ]
    },
    {
     "data": {
      "text/plain": [
       "(5, [1, 4])"
      ]
     },
     "execution_count": 34,
     "metadata": {},
     "output_type": "execute_result"
    }
   ],
   "source": [
    "### SAME PROBLEM AS ABOVE in O(n) time complexity as well as returning the indices\n",
    "\n",
    "prices = [7,1,5,3,6,4]\n",
    "class Solution:\n",
    "    def maxProfit(self, prices: list[int]) -> int:\n",
    "        l,r =0,1\n",
    "        MaxProfit = 0\n",
    "        Indices=[]\n",
    "        while r < len(prices)-1:\n",
    "            if prices[l] < prices[r]:\n",
    "                Profit = prices[r] - prices[l]\n",
    "                MaxProfit = max(MaxProfit, Profit)\n",
    "                indices=list([l,r])\n",
    "                print(MaxProfit)\n",
    "            else:\n",
    "                l=r\n",
    "            r=r+1\n",
    "        return MaxProfit, indices\n",
    "\n",
    "\n",
    "\n",
    "Sol=Solution()\n",
    "Sol.maxProfit(prices)"
   ]
  },
  {
   "cell_type": "code",
   "execution_count": 47,
   "metadata": {},
   "outputs": [
    {
     "data": {
      "text/plain": [
       "True"
      ]
     },
     "execution_count": 47,
     "metadata": {},
     "output_type": "execute_result"
    }
   ],
   "source": [
    "'''\n",
    "Contains Duplicate\n",
    "\n",
    "Given an integer array nums, return true if any value appears at least twice in the array, and return false if every element is distinct.\n",
    "\n",
    " \n",
    "\n",
    "Example 1:\n",
    "\n",
    "Input: nums = [1,2,3,1]\n",
    "Output: true\n",
    "Example 2:\n",
    "\n",
    "Input: nums = [1,2,3,4]\n",
    "Output: false\n",
    "Example 3:\n",
    "\n",
    "Input: nums = [1,1,1,3,3,4,3,2,4,2]\n",
    "Output: true\n",
    "'''\n",
    "nums=[1,2,3,1]\n",
    "class Solution:\n",
    "    def containsDuplicate(self, nums: list[int]) -> bool:\n",
    "        if len(nums)==len(set(nums)):\n",
    "            return False\n",
    "        else:\n",
    "            return True\n",
    "sol=Solution()\n",
    "sol.containsDuplicate(nums)"
   ]
  },
  {
   "cell_type": "code",
   "execution_count": 54,
   "metadata": {},
   "outputs": [
    {
     "name": "stdout",
     "output_type": "stream",
     "text": [
      "[0]\n",
      "[0, 0]\n",
      "[0, 0, 1]\n",
      "[0, 0, 1, 0]\n",
      "[0, 0, 1, 0, 4]\n",
      "[0, 0, 1, 0, 4, 3]\n",
      "[0, 0, 1, 0, 4, 3, 5]\n",
      "[0, 0, 1, 0, 4, 3, 5, 6]\n",
      "[0, 0, 1, 0, 4, 3, 5, 6, 1]\n",
      "6\n"
     ]
    }
   ],
   "source": [
    "'''Maximum Subarray\n",
    "\n",
    "Given an integer array nums, find the subarray\n",
    " with the largest sum, and return its sum.\n",
    "\n",
    " \n",
    "Example 1:\n",
    "\n",
    "Input: nums = [-2,1,-3,4,-1,2,1,-5,4]\n",
    "Output: 6\n",
    "Explanation: The subarray [4,-1,2,1] has the largest sum 6.\n",
    "Example 2:\n",
    "\n",
    "Input: nums = [1]\n",
    "Output: 1\n",
    "Explanation: The subarray [1] has the largest sum 1.\n",
    "Example 3:\n",
    "\n",
    "Input: nums = [5,4,-1,7,8]\n",
    "Output: 23\n",
    "Explanation: The subarray [5,4,-1,7,8] has the largest sum 23.'''\n",
    "nums = [-2,1,-3,4,-1,2,1,-5,4]\n",
    "def maxSubArray(nums: list[int]) -> int:\n",
    "    r=0\n",
    "    op =[0]\n",
    "    while r < len(nums):\n",
    "        print(op)\n",
    "        if (op[-1]+nums[r])<=0 and nums[r] <0:\n",
    "        \n",
    "            r += 1\n",
    "            op.append(0)\n",
    "        \n",
    "        elif (op[-1] +nums[r]) >0 :\n",
    "            \n",
    "            op.append(op[-1]+nums[r])\n",
    "            r=r+1\n",
    "        else:\n",
    "            \n",
    "            op.append(nums[r])\n",
    "            \n",
    "    return max(op)\n",
    "print(maxSubArray(nums))"
   ]
  },
  {
   "cell_type": "code",
   "execution_count": 2,
   "metadata": {},
   "outputs": [
    {
     "name": "stdout",
     "output_type": "stream",
     "text": [
      "[0]\n",
      "[0, 5]\n",
      "[0, 5, 9]\n",
      "[0, 5, 9, 8]\n",
      "[0, 5, 9, 8, 15]\n",
      "23\n"
     ]
    }
   ],
   "source": [
    "### ABOVE PROBLEM USING FOR LOOP\n",
    "\n",
    "nums = [5,4,-1,7,8]\n",
    "def maxSubArray(nums: list[int]) -> int:\n",
    "    \n",
    "    op =[0]\n",
    "    for r in range(len(nums)):\n",
    "        print(op)\n",
    "        if (op[-1]+nums[r])<=0 and nums[r] <0:\n",
    "        \n",
    "            \n",
    "            op.append(0)\n",
    "        \n",
    "        elif (op[-1] +nums[r]) >0 :\n",
    "            \n",
    "            op.append(op[-1]+nums[r])\n",
    "            \n",
    "        else:\n",
    "            \n",
    "            op.append(nums[r])\n",
    "            \n",
    "    return max(op)\n",
    "print(maxSubArray(nums))"
   ]
  },
  {
   "cell_type": "code",
   "execution_count": 4,
   "metadata": {},
   "outputs": [
    {
     "name": "stdout",
     "output_type": "stream",
     "text": [
      "6\n"
     ]
    }
   ],
   "source": [
    "### ABOVE PROBLEM SIMPLE SOLUTION FROM NEETCODE\n",
    "nums = [-2,1,-3,4,-1,2,1,-5,4]\n",
    "def maxSubArray(nums: list[int]) -> int:\n",
    "    maxSub = nums[0]\n",
    "    curSum=0\n",
    "    for n in nums:\n",
    "        if curSum  < 0:\n",
    "            curSum=0\n",
    "        curSum = curSum + n\n",
    "        maxSub = max(maxSub, curSum)\n",
    "    return maxSub\n",
    "\n",
    "print(maxSubArray(nums))"
   ]
  },
  {
   "cell_type": "code",
   "execution_count": 5,
   "metadata": {},
   "outputs": [
    {
     "name": "stdout",
     "output_type": "stream",
     "text": [
      "6\n"
     ]
    }
   ],
   "source": [
    "'''Maximum Product Subarray\n",
    "\n",
    "Given an integer array nums, find a subarray\n",
    " that has the largest product, and return the product.\n",
    "\n",
    "The test cases are generated so that the answer will fit in a 32-bit integer.\n",
    "\n",
    " \n",
    "\n",
    "Example 1:\n",
    "\n",
    "Input: nums = [2,3,-2,4]\n",
    "Output: 6\n",
    "Explanation: [2,3] has the largest product 6.\n",
    "Example 2:\n",
    "\n",
    "Input: nums = [-2,0,-1]\n",
    "Output: 0\n",
    "Explanation: The result cannot be 2, because [-2,-1] is not a subarray.\n",
    "'''\n",
    "nums = [2,3,-2,4]\n",
    "def maxProduct(nums: list[int]) -> int:\n",
    "\n",
    "        res=max(nums)\n",
    "        CurMin,CurMax=1,1\n",
    "        for n in nums:\n",
    "            if n == 0:\n",
    "                CurMin,CurMax=1,1\n",
    "                continue\n",
    "            temp=n*CurMax\n",
    "            CurMax=max(n*CurMax, n*CurMin, n)\n",
    "            CurMin=min(temp, n*CurMin, n)\n",
    "            res=max(res, CurMax)\n",
    "        return res\n",
    "print(maxProduct(nums))"
   ]
  },
  {
   "cell_type": "code",
   "execution_count": 2,
   "metadata": {},
   "outputs": [
    {
     "name": "stdout",
     "output_type": "stream",
     "text": [
      "8\n"
     ]
    }
   ],
   "source": [
    "'''Climbing Stairs\n",
    "\n",
    "You are climbing a staircase. It takes n steps to reach the top.\n",
    "\n",
    "Each time you can either climb 1 or 2 steps. In how many distinct ways can you climb to the top?\n",
    "\n",
    "Example 1:\n",
    "\n",
    "Input: n = 2\n",
    "Output: 2\n",
    "Explanation: There are two ways to climb to the top.\n",
    "1. 1 step + 1 step\n",
    "2. 2 steps\n",
    "Example 2:\n",
    "\n",
    "Input: n = 3\n",
    "Output: 3\n",
    "Explanation: There are three ways to climb to the top.\n",
    "1. 1 step + 1 step + 1 step\n",
    "2. 1 step + 2 steps\n",
    "3. 2 steps + 1 step\n",
    "'''\n",
    "### USING DYNAMIC PROGRAMMING\n",
    "\n",
    "def climbStairs(n: int) -> int:\n",
    "    dp = [-1]*(n+1)\n",
    "    for i in range(n+1):\n",
    "        if i <=2:\n",
    "            dp[i]=i\n",
    "        else:\n",
    "            dp[i]=dp[i-1]+dp[i-2]     ### RECURRENCE RELATION\n",
    "\n",
    "    return dp[n]\n",
    "\n",
    "print(climbStairs(5))"
   ]
  },
  {
   "cell_type": "code",
   "execution_count": 10,
   "metadata": {},
   "outputs": [
    {
     "name": "stdout",
     "output_type": "stream",
     "text": [
      "3\n"
     ]
    }
   ],
   "source": [
    "'''Longest Substring Without Repeating Characters\n",
    "Given a string s, find the length of the longest \n",
    "substring without repeating characters.\n",
    "Example 1:\n",
    "\n",
    "Input: s = \"abcabcbb\"\n",
    "Output: 3\n",
    "Explanation: The answer is \"abc\", with the length of 3.\n",
    "Example 2:\n",
    "\n",
    "Input: s = \"bbbbb\"\n",
    "Output: 1\n",
    "Explanation: The answer is \"b\", with the length of 1.\n",
    "Example 3:\n",
    "\n",
    "Input: s = \"pwwkew\"\n",
    "Output: 3\n",
    "Explanation: The answer is \"wke\", with the length of 3.\n",
    "Notice that the answer must be a substring, \"pwke\" is a subsequence and not a substring.'''\n",
    "\n",
    "###BRUTE FORCE APPROACH\n",
    "s='pwwkew'\n",
    "def lengthOfLongestSubstring(s: str) -> int:\n",
    "        op=[]\n",
    "        for i in range(len(s)-1):\n",
    "            for j in range(i+1,len(s)):\n",
    "                if len(s[i:j]) == len(set(s[i:j])):\n",
    "                    # print(len(s[i:j]))\n",
    "                    op.append(len(s[i:j]))\n",
    "                \n",
    "        return(max(op))\n",
    "print(lengthOfLongestSubstring(s))"
   ]
  },
  {
   "cell_type": "code",
   "execution_count": 18,
   "metadata": {},
   "outputs": [
    {
     "name": "stdout",
     "output_type": "stream",
     "text": [
      "4\n"
     ]
    }
   ],
   "source": [
    "'''Longest Repeating Character Replacement\n",
    "You are given a string s and an integer k. You can choose any character of the string and change it to any other uppercase English character.\n",
    " You can perform this operation at most k times.\n",
    "Return the length of the longest substring containing the same letter you can get after performing the above operations.\n",
    "Example 1:\n",
    "\n",
    "Input: s = \"ABAB\", k = 2\n",
    "Output: 4\n",
    "Explanation: Replace the two 'A's with two 'B's or vice versa.\n",
    "Example 2:\n",
    "\n",
    "Input: s = \"AABABBA\", k = 1\n",
    "Output: 4\n",
    "Explanation: Replace the one 'A' in the middle with 'B' and form \"AABBBBA\".\n",
    "The substring \"BBBB\" has the longest repeating letters, which is 4.\n",
    "There may exists other ways to achive this answer too.'''\n",
    "s = \"AABABBA\"\n",
    "k = 1\n",
    "def characterReplacement(s: str, k: int) -> int:\n",
    "        ini_set=set(s)\n",
    "        \n",
    "        # Converting set to dictionary\n",
    "        count = dict.fromkeys(ini_set, 0)\n",
    "        # print(count)\n",
    "        l=0\n",
    "        res=[]\n",
    "        for r in range(len(s)):\n",
    "            count[s[r]]=count[s[r]]+1\n",
    "            # print(count)\n",
    "            if (r-l+1)-max(count.values())<=k:\n",
    "                res.append(r-l+1)\n",
    "                # print(res)\n",
    "            else:\n",
    "                count[s[l]] -= 1\n",
    "                l=l+1\n",
    "        return max(res)\n",
    "\n",
    "print(characterReplacement(s,k))"
   ]
  },
  {
   "cell_type": "code",
   "execution_count": 24,
   "metadata": {},
   "outputs": [
    {
     "data": {
      "text/plain": [
       "4"
      ]
     },
     "execution_count": 24,
     "metadata": {},
     "output_type": "execute_result"
    }
   ],
   "source": [
    "# SAME PROBLEM AS ABOVE DIFFERENT WAY OF CREATING DICTIONARY\n",
    "\n",
    "s = \"AABABBA\"\n",
    "k = 1\n",
    "def characterReplacement(s: str, k: int) -> int:\n",
    "    l=0\n",
    "    count = {}\n",
    "    res=[]\n",
    "    for r in range(len(s)):\n",
    "        count[s[r]]= 1+ count.get(s[r],0)\n",
    "        if (r-l+1)-max(count.values())<=k:\n",
    "                res.append(r-l+1)\n",
    "                # print(res)\n",
    "        else:\n",
    "            count[s[l]] -= 1\n",
    "            l=l+1\n",
    "    return max(res)\n",
    "\n",
    "characterReplacement(s,k)"
   ]
  },
  {
   "cell_type": "code",
   "execution_count": 8,
   "metadata": {},
   "outputs": [
    {
     "name": "stdout",
     "output_type": "stream",
     "text": [
      "{'a': 0, 'b': 0, 'c': 0, 'd': 0}\n"
     ]
    }
   ],
   "source": [
    "l=['a','b','c','d']\n",
    "print(dict.fromkeys(l,0))"
   ]
  },
  {
   "cell_type": "code",
   "execution_count": 9,
   "metadata": {},
   "outputs": [
    {
     "name": "stdout",
     "output_type": "stream",
     "text": [
      "BANC\n"
     ]
    }
   ],
   "source": [
    "'''Minimum Window Substring\n",
    "Given two strings s and t of lengths m and n respectively, return the minimum window \n",
    "substring of s such that every character in t (including duplicates) is included in the window. If there is no such substring,\n",
    " return the empty string \"\".\n",
    "\n",
    "The testcases will be generated such that the answer is unique.\n",
    "\n",
    " Example 1:\n",
    "\n",
    "Input: s = \"ADOBECODEBANC\", t = \"ABC\"\n",
    "Output: \"BANC\"\n",
    "Explanation: The minimum window substring \"BANC\" includes 'A', 'B', and 'C' from string t.\n",
    "Example 2:\n",
    "\n",
    "Input: s = \"a\", t = \"a\"\n",
    "Output: \"a\"\n",
    "Explanation: The entire string s is the minimum window.\n",
    "Example 3:\n",
    "\n",
    "Input: s = \"a\", t = \"aa\"\n",
    "Output: \"\"\n",
    "Explanation: Both 'a's from t must be included in the window.\n",
    "Since the largest window of s only has one 'a', return empty string.'''\n",
    "\n",
    "s = \"ADOBECODEBANC\"\n",
    "t = \"ABC\"\n",
    "\n",
    "from collections import Counter\n",
    "\n",
    "def minWindow(s: str, t: str) -> str:\n",
    "    t_dict=Counter(list(t))\n",
    "    #print(t_dict)\n",
    "    # t_act_dict = dict.fromkeys(t_dict,0)\n",
    "    # print(t_act_dict)\n",
    "    op=[]\n",
    "    l=0\n",
    "    for l in range(len(s)):\n",
    "        t_act_dict=dict.fromkeys(t_dict,0)\n",
    "        for r in range(l,len(s)):\n",
    "            if s[r] in t_dict:\n",
    "                t_act_dict[s[r]]= 1+t_act_dict[s[r]]\n",
    "                #print(t_act_dict)\n",
    "                \n",
    "            if t_dict == t_act_dict:\n",
    "                op.append(s[l:r+1])\n",
    "                #print(op)\n",
    "                break                  \n",
    "                \n",
    "                \n",
    "    return min(op, key=len, default = \"\")\n",
    "\n",
    "print(minWindow(s,t))\n",
    "\n",
    "\n"
   ]
  },
  {
   "cell_type": "code",
   "execution_count": 3,
   "metadata": {},
   "outputs": [
    {
     "data": {
      "text/plain": [
       "True"
      ]
     },
     "execution_count": 3,
     "metadata": {},
     "output_type": "execute_result"
    }
   ],
   "source": [
    "'''Valid Anagram\n",
    "Given two strings s and t, return true if t is an anagram of s, and false otherwise.\n",
    "An Anagram is a word or phrase formed by rearranging the letters of a different word or phrase, \n",
    "typically using all the original letters exactly once.\n",
    "\n",
    "Example 1:\n",
    "\n",
    "Input: s = \"anagram\", t = \"nagaram\"\n",
    "Output: true\n",
    "Example 2:\n",
    "\n",
    "Input: s = \"rat\", t = \"car\"\n",
    "Output: false\n",
    "'''\n",
    "s = \"anagram\"\n",
    "t = \"nagaram\"\n",
    "from collections import Counter\n",
    "def isAnagram(s: str, t: str) -> bool:\n",
    "    return Counter(s)==Counter(t)\n",
    "        \n",
    "isAnagram(s,t)"
   ]
  },
  {
   "cell_type": "code",
   "execution_count": 5,
   "metadata": {},
   "outputs": [
    {
     "data": {
      "text/plain": [
       "True"
      ]
     },
     "execution_count": 5,
     "metadata": {},
     "output_type": "execute_result"
    }
   ],
   "source": [
    "# ABOVE PROBLEM USING DICTIONARY TO COUNT NUMBER OF EACH CHARACTER\n",
    "s = \"anagram\"\n",
    "t = \"nagaram\"\n",
    "def isAnagram_d(s: str, t: str) -> bool:\n",
    "    if len(s) != len(t):\n",
    "        return False\n",
    "\n",
    "    countS, countT = {}, {}\n",
    "\n",
    "    for i in range(len(s)):\n",
    "        countS[s[i]] = 1 + countS.get(s[i], 0)\n",
    "        countT[t[i]] = 1 + countT.get(t[i], 0)\n",
    "    return countS == countT\n",
    "\n",
    "isAnagram_d(s,t)"
   ]
  },
  {
   "cell_type": "code",
   "execution_count": 6,
   "metadata": {},
   "outputs": [
    {
     "data": {
      "text/plain": [
       "True"
      ]
     },
     "execution_count": 6,
     "metadata": {},
     "output_type": "execute_result"
    }
   ],
   "source": [
    "# ABOVE PROBLEM USING SORTED\n",
    "\n",
    "s = \"anagram\"\n",
    "t = \"nagaram\"\n",
    "def isAnagram_s(s: str, t: str) -> bool:\n",
    "    return sorted(s) == sorted(t)\n",
    "\n",
    "isAnagram_s(s,t)\n",
    "\n"
   ]
  },
  {
   "cell_type": "code",
   "execution_count": 17,
   "metadata": {},
   "outputs": [
    {
     "data": {
      "text/plain": [
       "dict_values([['eat', 'tea', 'ate'], ['tan', 'nat'], ['bat']])"
      ]
     },
     "execution_count": 17,
     "metadata": {},
     "output_type": "execute_result"
    }
   ],
   "source": [
    "'''Group Anagrams\n",
    "Given an array of strings strs, group the anagrams together. You can return the answer in any order.\n",
    "An Anagram is a word or phrase formed by rearranging the letters of a different word or phrase, typically \n",
    "using all the original letters exactly once.\n",
    "Example 1:\n",
    "\n",
    "Input: strs = [\"eat\",\"tea\",\"tan\",\"ate\",\"nat\",\"bat\"]\n",
    "Output: [[\"bat\"],[\"nat\",\"tan\"],[\"ate\",\"eat\",\"tea\"]]\n",
    "Example 2:\n",
    "\n",
    "Input: strs = [\"\"]\n",
    "Output: [[\"\"]]\n",
    "Example 3:\n",
    "\n",
    "Input: strs = [\"a\"]\n",
    "Output: [[\"a\"]]\n",
    "'''\n",
    "strs = [\"eat\",\"tea\",\"tan\",\"ate\",\"nat\",\"bat\"]\n",
    "def groupAnagrams(strs: list[str]) -> list[list[str]]:\n",
    "    op={}\n",
    "    for i in range(len(strs)):\n",
    "        st=\"\".join(sorted(strs[i]))\n",
    "        if st not in op:\n",
    "            op[st]= [strs[i]]\n",
    "        else:\n",
    "            op[st].append(strs[i])\n",
    "    return op.values()\n",
    "\n",
    "groupAnagrams(strs)\n",
    "\n",
    "\n"
   ]
  },
  {
   "cell_type": "code",
   "execution_count": 15,
   "metadata": {},
   "outputs": [
    {
     "name": "stdout",
     "output_type": "stream",
     "text": [
      "['abc', 'guga', 'shiva']\n",
      "['shiva', 'abc', 'guga']\n",
      "None\n",
      "['abc', 'guga', 'shiva']\n"
     ]
    }
   ],
   "source": [
    "s=[\"shiva\", \"abc\", \"guga\"]\n",
    "print(sorted(s, key=len))\n",
    "print(s)\n",
    "print(s.sort(key=len))\n",
    "print(s)"
   ]
  },
  {
   "cell_type": "code",
   "execution_count": 21,
   "metadata": {},
   "outputs": [
    {
     "name": "stdout",
     "output_type": "stream",
     "text": [
      "Counter({'B': 6, 'A': 4})\n",
      "Counter({'B': 6, 'A': 4})\n"
     ]
    }
   ],
   "source": [
    "s='ABBABAABBB'\n",
    "from collections import Counter\n",
    "print(Counter(s))\n",
    "print(Counter(list(s)))"
   ]
  },
  {
   "cell_type": "code",
   "execution_count": 53,
   "metadata": {},
   "outputs": [
    {
     "data": {
      "text/plain": [
       "(['a', 'aa', 'aaa', 'a', 'aa', 'a'], 6)"
      ]
     },
     "execution_count": 53,
     "metadata": {},
     "output_type": "execute_result"
    }
   ],
   "source": [
    "'''Palindromic Substrings\n",
    "Given a string s, return the number of palindromic substrings in it.\n",
    "A string is a palindrome when it reads the same backward as forward.\n",
    "A substring is a contiguous sequence of characters within the string.\n",
    "\n",
    "Example 1:\n",
    "\n",
    "Input: s = \"abc\"\n",
    "Output: 3\n",
    "Explanation: Three palindromic strings: \"a\", \"b\", \"c\".\n",
    "Example 2:\n",
    "\n",
    "Input: s = \"aaa\"\n",
    "Output: 6\n",
    "Explanation: Six palindromic strings: \"a\", \"a\", \"a\", \"aa\", \"aa\", \"aaa\".\n",
    "'''\n",
    "s=\"aaa\"\n",
    "def countSubstrings(s: str) -> int:\n",
    "    op=[]\n",
    "    l=0\n",
    "    for l in range(len(s)):\n",
    "        op.append(s[l])\n",
    "        for r in range(l+1,len(s)):\n",
    "            st=s[l:r+1]\n",
    "            if st ==st[::-1]:\n",
    "                op.append(st)\n",
    "    return op, len(op)\n",
    "\n",
    "countSubstrings(s)\n"
   ]
  },
  {
   "cell_type": "markdown",
   "metadata": {},
   "source": [
    "# INTERVALS"
   ]
  },
  {
   "cell_type": "code",
   "execution_count": 54,
   "metadata": {},
   "outputs": [
    {
     "data": {
      "text/plain": [
       "[[1, 2], [3, 10], [12, 16]]"
      ]
     },
     "execution_count": 54,
     "metadata": {},
     "output_type": "execute_result"
    }
   ],
   "source": [
    "'''Insert Interval\n",
    "You are given an array of non-overlapping intervals intervals where intervals[i] = [starti, endi] represent the start and the end of the ith \n",
    "interval and intervals is sorted in ascending order by starti. You are also given an interval newInterval = [start, end] that represents the \n",
    "start and end of another interval.\n",
    "\n",
    "Insert newInterval into intervals such that intervals is still sorted in ascending order by starti and intervals still does not have any \n",
    "overlapping intervals (merge overlapping intervals if necessary).\n",
    "\n",
    "Return intervals after the insertion.\n",
    "\n",
    " \n",
    "\n",
    "Example 1:\n",
    "\n",
    "Input: intervals = [[1,3],[6,9]], newInterval = [2,5]\n",
    "Output: [[1,5],[6,9]]\n",
    "Example 2:\n",
    "\n",
    "Input: intervals = [[1,2],[3,5],[6,7],[8,10],[12,16]], newInterval = [4,8]\n",
    "Output: [[1,2],[3,10],[12,16]]\n",
    "Explanation: Because the new interval [4,8] overlaps with [3,5],[6,7],[8,10].\n",
    "'''\n",
    "intervals = [[1,2],[3,5],[6,7],[8,10],[12,16]]\n",
    "newInterval = [4,8]\n",
    "def insert(intervals: list[list[int]], newInterval: list[int]) -> list[list[int]]:\n",
    "    res =[]\n",
    "    for i in range(len(intervals)):\n",
    "        if newInterval[1] < intervals[i][0]:\n",
    "            res.append(newInterval)\n",
    "            return res+intervals[i:]\n",
    "        elif newInterval[0] > intervals[i][1]:\n",
    "            res.append(intervals[i])\n",
    "        else:\n",
    "            newInterval= [min(newInterval[0], intervals[i][0]), max(newInterval[1], intervals[i][1])]\n",
    "    res.append(newInterval)\n",
    "    return res\n",
    "insert(intervals,newInterval)"
   ]
  }
 ],
 "metadata": {
  "kernelspec": {
   "display_name": "base",
   "language": "python",
   "name": "python3"
  },
  "language_info": {
   "codemirror_mode": {
    "name": "ipython",
    "version": 3
   },
   "file_extension": ".py",
   "mimetype": "text/x-python",
   "name": "python",
   "nbconvert_exporter": "python",
   "pygments_lexer": "ipython3",
   "version": "3.10.9"
  },
  "orig_nbformat": 4
 },
 "nbformat": 4,
 "nbformat_minor": 2
}
