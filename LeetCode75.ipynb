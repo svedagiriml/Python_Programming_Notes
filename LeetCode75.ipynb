{
 "cells": [
  {
   "cell_type": "code",
   "execution_count": 4,
   "metadata": {},
   "outputs": [
    {
     "name": "stdout",
     "output_type": "stream",
     "text": [
      "[0, 1]\n"
     ]
    }
   ],
   "source": [
    "'''Two Sum\n",
    "Given an array of integers nums and an integer target, return indices of the two numbers such that they add up to target.\n",
    "\n",
    "You may assume that each input would have exactly one solution, and you may not use the same element twice.\n",
    "\n",
    "You can return the answer in any order.\n",
    "\n",
    "\n",
    "Example 1:\n",
    "\n",
    "Input: nums = [2,7,11,15], target = 9\n",
    "Output: [0,1]\n",
    "Explanation: Because nums[0] + nums[1] == 9, we return [0, 1].\n",
    "Example 2:\n",
    "\n",
    "Input: nums = [3,2,4], target = 6\n",
    "Output: [1,2]\n",
    "Example 3:\n",
    "\n",
    "Input: nums = [3,3], target = 6\n",
    "Output: [0,1]\n",
    "'''\n",
    "nums=[2,7,11,15]\n",
    "target=9\n",
    "def twoSum(nums, target: int):\n",
    "    \n",
    "    for i in range(len(nums)):\n",
    "        j=i+1\n",
    "        if target == nums[i]+nums[j]:\n",
    "            return [i,j]\n",
    "        \n",
    "\n",
    "print(twoSum(nums,target))\n"
   ]
  },
  {
   "cell_type": "code",
   "execution_count": 6,
   "metadata": {},
   "outputs": [
    {
     "data": {
      "text/plain": [
       "[1, 3]"
      ]
     },
     "execution_count": 6,
     "metadata": {},
     "output_type": "execute_result"
    }
   ],
   "source": [
    "'''Two Sum using HashMap O(n) time complexity'''\n",
    "nums = [1,2,4,5,8]\n",
    "target=7\n",
    "\n",
    "class Solution:\n",
    "    def twoSum(self, nums, target: int):\n",
    "        hashMap = {} # value, index\n",
    "        for i, num in enumerate(nums):\n",
    "            diff = target - num\n",
    "            if diff in hashMap:\n",
    "                return [hashMap[diff],i]\n",
    "            else:\n",
    "                hashMap[num] = i\n",
    "\n",
    "Sol=Solution()\n",
    "Sol.twoSum(nums, target)\n",
    "            "
   ]
  },
  {
   "cell_type": "code",
   "execution_count": 43,
   "metadata": {},
   "outputs": [
    {
     "name": "stdout",
     "output_type": "stream",
     "text": [
      "[-6, -2, -4, -1, -3, 4, 2, 5, 3, -2, 1, -1, 3, 1, -2]\n",
      "5\n",
      "{-6: [0, 1], -2: [4, 5], -4: [0, 3], -1: [2, 5], -3: [0, 5], 4: [1, 2], 2: [1, 3], 5: [1, 4], 3: [3, 4], 1: [3, 5]}\n",
      "(5, [1, 4])\n"
     ]
    }
   ],
   "source": [
    "'''\n",
    "Best Time to Buy and Sell Stock ## SLIDING WINDOW\n",
    "\n",
    "You are given an array prices where prices[i] is the price of a given stock on the ith day.\n",
    "\n",
    "You want to maximize your profit by choosing a single day to buy one stock and choosing a different day in the future to sell that stock.\n",
    "\n",
    "Return the maximum profit you can achieve from this transaction. If you cannot achieve any profit, return 0.\n",
    "\n",
    " \n",
    "\n",
    "Example 1:\n",
    "\n",
    "Input: prices = [7,1,5,3,6,4]\n",
    "Output: 5\n",
    "Explanation: Buy on day 2 (price = 1) and sell on day 5 (price = 6), profit = 6-1 = 5.\n",
    "Note that buying on day 2 and selling on day 1 is not allowed because you must buy before you sell.\n",
    "Example 2:\n",
    "\n",
    "Input: prices = [7,6,4,3,1]\n",
    "Output: 0\n",
    "Explanation: In this case, no transactions are done and the max profit = 0.\n",
    "'''\n",
    "prices = [7,1,5,3,6,4]\n",
    "class Solution:\n",
    "    def maxProfit(self, prices: list[int]) -> int:\n",
    "        op =[]\n",
    "        for i in range(len(prices)-1):\n",
    "            j=i+1\n",
    "            for j in range(j,len(prices)):\n",
    "                op.append(prices[j]-prices[i])\n",
    "        print(op)\n",
    "        return max(op)\n",
    "\n",
    "Sol=Solution()\n",
    "print(Sol.maxProfit(prices))\n",
    "\n",
    "class Solutionnew:\n",
    "    def maxProfitnew(self, prices: list[int]) -> int:\n",
    "        op ={}   # Price: indices as list\n",
    "        for i in range(len(prices)-1):\n",
    "            j=i+1\n",
    "            for j in range(j,len(prices)):\n",
    "                op[prices[j]-prices[i]]= list([i,j])\n",
    "        print(op)\n",
    "        return max(op), op[max(op)]\n",
    "\n",
    "#Sol=Solution()\n",
    "#Sol.maxProfit(prices)\n",
    "\n",
    "Sol1=Solutionnew()\n",
    "print(Sol1.maxProfitnew(prices))"
   ]
  },
  {
   "cell_type": "code",
   "execution_count": 34,
   "metadata": {},
   "outputs": [
    {
     "name": "stdout",
     "output_type": "stream",
     "text": [
      "4\n",
      "4\n",
      "5\n"
     ]
    },
    {
     "data": {
      "text/plain": [
       "(5, [1, 4])"
      ]
     },
     "execution_count": 34,
     "metadata": {},
     "output_type": "execute_result"
    }
   ],
   "source": [
    "### SAME PROBLEM AS ABOVE in O(n) time complexity as well as returning the indices\n",
    "\n",
    "prices = [7,1,5,3,6,4]\n",
    "class Solution:\n",
    "    def maxProfit(self, prices: list[int]) -> int:\n",
    "        l,r =0,1\n",
    "        MaxProfit = 0\n",
    "        Indices=[]\n",
    "        while r < len(prices)-1:\n",
    "            if prices[l] < prices[r]:\n",
    "                Profit = prices[r] - prices[l]\n",
    "                MaxProfit = max(MaxProfit, Profit)\n",
    "                indices=list([l,r])\n",
    "                print(MaxProfit)\n",
    "            else:\n",
    "                l=r\n",
    "            r=r+1\n",
    "        return MaxProfit, indices\n",
    "\n",
    "\n",
    "\n",
    "Sol=Solution()\n",
    "Sol.maxProfit(prices)"
   ]
  },
  {
   "cell_type": "code",
   "execution_count": 47,
   "metadata": {},
   "outputs": [
    {
     "data": {
      "text/plain": [
       "True"
      ]
     },
     "execution_count": 47,
     "metadata": {},
     "output_type": "execute_result"
    }
   ],
   "source": [
    "'''\n",
    "Contains Duplicate\n",
    "\n",
    "Given an integer array nums, return true if any value appears at least twice in the array, and return false if every element is distinct.\n",
    "\n",
    " \n",
    "\n",
    "Example 1:\n",
    "\n",
    "Input: nums = [1,2,3,1]\n",
    "Output: true\n",
    "Example 2:\n",
    "\n",
    "Input: nums = [1,2,3,4]\n",
    "Output: false\n",
    "Example 3:\n",
    "\n",
    "Input: nums = [1,1,1,3,3,4,3,2,4,2]\n",
    "Output: true\n",
    "'''\n",
    "nums=[1,2,3,1]\n",
    "class Solution:\n",
    "    def containsDuplicate(self, nums: list[int]) -> bool:\n",
    "        if len(nums)==len(set(nums)):\n",
    "            return False\n",
    "        else:\n",
    "            return True\n",
    "sol=Solution()\n",
    "sol.containsDuplicate(nums)"
   ]
  },
  {
   "cell_type": "code",
   "execution_count": 54,
   "metadata": {},
   "outputs": [
    {
     "name": "stdout",
     "output_type": "stream",
     "text": [
      "[0]\n",
      "[0, 0]\n",
      "[0, 0, 1]\n",
      "[0, 0, 1, 0]\n",
      "[0, 0, 1, 0, 4]\n",
      "[0, 0, 1, 0, 4, 3]\n",
      "[0, 0, 1, 0, 4, 3, 5]\n",
      "[0, 0, 1, 0, 4, 3, 5, 6]\n",
      "[0, 0, 1, 0, 4, 3, 5, 6, 1]\n",
      "6\n"
     ]
    }
   ],
   "source": [
    "'''Maximum Subarray\n",
    "\n",
    "Given an integer array nums, find the subarray\n",
    " with the largest sum, and return its sum.\n",
    "\n",
    " \n",
    "Example 1:\n",
    "\n",
    "Input: nums = [-2,1,-3,4,-1,2,1,-5,4]\n",
    "Output: 6\n",
    "Explanation: The subarray [4,-1,2,1] has the largest sum 6.\n",
    "Example 2:\n",
    "\n",
    "Input: nums = [1]\n",
    "Output: 1\n",
    "Explanation: The subarray [1] has the largest sum 1.\n",
    "Example 3:\n",
    "\n",
    "Input: nums = [5,4,-1,7,8]\n",
    "Output: 23\n",
    "Explanation: The subarray [5,4,-1,7,8] has the largest sum 23.'''\n",
    "nums = [-2,1,-3,4,-1,2,1,-5,4]\n",
    "def maxSubArray(nums: list[int]) -> int:\n",
    "    r=0\n",
    "    op =[0]\n",
    "    while r < len(nums):\n",
    "        print(op)\n",
    "        if (op[-1]+nums[r])<=0 and nums[r] <0:\n",
    "        \n",
    "            r += 1\n",
    "            op.append(0)\n",
    "        \n",
    "        elif (op[-1] +nums[r]) >0 :\n",
    "            \n",
    "            op.append(op[-1]+nums[r])\n",
    "            r=r+1\n",
    "        else:\n",
    "            \n",
    "            op.append(nums[r])\n",
    "            \n",
    "    return max(op)\n",
    "print(maxSubArray(nums))"
   ]
  },
  {
   "cell_type": "code",
   "execution_count": null,
   "metadata": {},
   "outputs": [],
   "source": []
  }
 ],
 "metadata": {
  "kernelspec": {
   "display_name": "base",
   "language": "python",
   "name": "python3"
  },
  "language_info": {
   "codemirror_mode": {
    "name": "ipython",
    "version": 3
   },
   "file_extension": ".py",
   "mimetype": "text/x-python",
   "name": "python",
   "nbconvert_exporter": "python",
   "pygments_lexer": "ipython3",
   "version": "3.10.9"
  },
  "orig_nbformat": 4
 },
 "nbformat": 4,
 "nbformat_minor": 2
}
