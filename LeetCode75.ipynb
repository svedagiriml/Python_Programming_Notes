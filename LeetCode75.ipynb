{
 "cells": [
  {
   "cell_type": "markdown",
   "metadata": {},
   "source": [
    "# ARRAYS"
   ]
  },
  {
   "cell_type": "code",
   "execution_count": 14,
   "metadata": {},
   "outputs": [
    {
     "name": "stdout",
     "output_type": "stream",
     "text": [
      "[1, 3]\n"
     ]
    }
   ],
   "source": [
    "'''Two Sum\n",
    "Given an array of integers nums and an integer target, return indices of the two numbers such that they add up to target.\n",
    "You may assume that each input would have exactly one solution, and you may not use the same element twice.\n",
    "You can return the answer in any order.\n",
    "\n",
    "\n",
    "Example 1:\n",
    "\n",
    "Input: nums = [2,7,11,15], target = 9\n",
    "Output: [0,1]\n",
    "Explanation: Because nums[0] + nums[1] == 9, we return [0, 1].\n",
    "Example 2:\n",
    "\n",
    "Input: nums = [3,2,4], target = 6\n",
    "Output: [1,2]\n",
    "Example 3:\n",
    "\n",
    "Input: nums = [3,3], target = 6\n",
    "Output: [0,1]\n",
    "'''\n",
    "nums=[2,7,11,15]\n",
    "target=22\n",
    "def twoSum(nums, target: int):\n",
    "    \n",
    "    for i in range(len(nums)-1):\n",
    "        for j in range(i+1,len(nums)):\n",
    "            if target == nums[i]+nums[j]:\n",
    "                return [i,j]\n",
    "        \n",
    "\n",
    "print(twoSum(nums,target))\n"
   ]
  },
  {
   "cell_type": "code",
   "execution_count": 15,
   "metadata": {},
   "outputs": [
    {
     "data": {
      "text/plain": [
       "[1, 3]"
      ]
     },
     "execution_count": 15,
     "metadata": {},
     "output_type": "execute_result"
    }
   ],
   "source": [
    "'''Two Sum using HashMap O(n) time complexity'''\n",
    "nums = [1,2,4,5,8]\n",
    "target=7\n",
    "\n",
    "class Solution:\n",
    "    def twoSum(self, nums, target: int):\n",
    "        hashMap = {} # value, index\n",
    "        for i, num in enumerate(nums):\n",
    "            diff = target - num\n",
    "            if diff in hashMap:\n",
    "                return [hashMap[diff],i]\n",
    "            else:\n",
    "                hashMap[num] = i\n",
    "\n",
    "Sol=Solution()\n",
    "Sol.twoSum(nums, target)\n",
    "            "
   ]
  },
  {
   "cell_type": "code",
   "execution_count": 43,
   "metadata": {},
   "outputs": [
    {
     "name": "stdout",
     "output_type": "stream",
     "text": [
      "[-6, -2, -4, -1, -3, 4, 2, 5, 3, -2, 1, -1, 3, 1, -2]\n",
      "5\n",
      "{-6: [0, 1], -2: [4, 5], -4: [0, 3], -1: [2, 5], -3: [0, 5], 4: [1, 2], 2: [1, 3], 5: [1, 4], 3: [3, 4], 1: [3, 5]}\n",
      "(5, [1, 4])\n"
     ]
    }
   ],
   "source": [
    "'''\n",
    "Best Time to Buy and Sell Stock ## SLIDING WINDOW\n",
    "\n",
    "You are given an array prices where prices[i] is the price of a given stock on the ith day.\n",
    "\n",
    "You want to maximize your profit by choosing a single day to buy one stock and choosing a different day in the future to sell that stock.\n",
    "\n",
    "Return the maximum profit you can achieve from this transaction. If you cannot achieve any profit, return 0.\n",
    "\n",
    " \n",
    "\n",
    "Example 1:\n",
    "\n",
    "Input: prices = [7,1,5,3,6,4]\n",
    "Output: 5\n",
    "Explanation: Buy on day 2 (price = 1) and sell on day 5 (price = 6), profit = 6-1 = 5.\n",
    "Note that buying on day 2 and selling on day 1 is not allowed because you must buy before you sell.\n",
    "Example 2:\n",
    "\n",
    "Input: prices = [7,6,4,3,1]\n",
    "Output: 0\n",
    "Explanation: In this case, no transactions are done and the max profit = 0.\n",
    "'''\n",
    "prices = [7,1,5,3,6,4]\n",
    "class Solution:\n",
    "    def maxProfit(self, prices: list[int]) -> int:\n",
    "        op =[]\n",
    "        for i in range(len(prices)-1):\n",
    "            j=i+1\n",
    "            for j in range(j,len(prices)):\n",
    "                op.append(prices[j]-prices[i])\n",
    "        print(op)\n",
    "        return max(op)\n",
    "\n",
    "Sol=Solution()\n",
    "print(Sol.maxProfit(prices))\n",
    "\n",
    "class Solutionnew:\n",
    "    def maxProfitnew(self, prices: list[int]) -> int:\n",
    "        op ={}   # Price: indices as list\n",
    "        for i in range(len(prices)-1):\n",
    "            j=i+1\n",
    "            for j in range(j,len(prices)):\n",
    "                op[prices[j]-prices[i]]= list([i,j])\n",
    "        print(op)\n",
    "        return max(op), op[max(op)]\n",
    "\n",
    "#Sol=Solution()\n",
    "#Sol.maxProfit(prices)\n",
    "\n",
    "Sol1=Solutionnew()\n",
    "print(Sol1.maxProfitnew(prices))"
   ]
  },
  {
   "cell_type": "code",
   "execution_count": 34,
   "metadata": {},
   "outputs": [
    {
     "name": "stdout",
     "output_type": "stream",
     "text": [
      "4\n",
      "4\n",
      "5\n"
     ]
    },
    {
     "data": {
      "text/plain": [
       "(5, [1, 4])"
      ]
     },
     "execution_count": 34,
     "metadata": {},
     "output_type": "execute_result"
    }
   ],
   "source": [
    "### SAME PROBLEM AS ABOVE in O(n) time complexity as well as returning the indices\n",
    "\n",
    "prices = [7,1,5,3,6,4]\n",
    "class Solution:\n",
    "    def maxProfit(self, prices: list[int]) -> int:\n",
    "        l,r =0,1\n",
    "        MaxProfit = 0\n",
    "        Indices=[]\n",
    "        while r < len(prices)-1:\n",
    "            if prices[l] < prices[r]:\n",
    "                Profit = prices[r] - prices[l]\n",
    "                MaxProfit = max(MaxProfit, Profit)\n",
    "                indices=list([l,r])\n",
    "                print(MaxProfit)\n",
    "            else:\n",
    "                l=r\n",
    "            r=r+1\n",
    "        return MaxProfit, indices\n",
    "\n",
    "\n",
    "\n",
    "Sol=Solution()\n",
    "Sol.maxProfit(prices)"
   ]
  },
  {
   "cell_type": "code",
   "execution_count": 47,
   "metadata": {},
   "outputs": [
    {
     "data": {
      "text/plain": [
       "True"
      ]
     },
     "execution_count": 47,
     "metadata": {},
     "output_type": "execute_result"
    }
   ],
   "source": [
    "'''\n",
    "Contains Duplicate\n",
    "\n",
    "Given an integer array nums, return true if any value appears at least twice in the array, and return false if every element is distinct.\n",
    "\n",
    " \n",
    "\n",
    "Example 1:\n",
    "\n",
    "Input: nums = [1,2,3,1]\n",
    "Output: true\n",
    "Example 2:\n",
    "\n",
    "Input: nums = [1,2,3,4]\n",
    "Output: false\n",
    "Example 3:\n",
    "\n",
    "Input: nums = [1,1,1,3,3,4,3,2,4,2]\n",
    "Output: true\n",
    "'''\n",
    "nums=[1,2,3,1]\n",
    "class Solution:\n",
    "    def containsDuplicate(self, nums: list[int]) -> bool:\n",
    "        if len(nums)==len(set(nums)):\n",
    "            return False\n",
    "        else:\n",
    "            return True\n",
    "sol=Solution()\n",
    "sol.containsDuplicate(nums)"
   ]
  },
  {
   "cell_type": "code",
   "execution_count": 54,
   "metadata": {},
   "outputs": [
    {
     "name": "stdout",
     "output_type": "stream",
     "text": [
      "[0]\n",
      "[0, 0]\n",
      "[0, 0, 1]\n",
      "[0, 0, 1, 0]\n",
      "[0, 0, 1, 0, 4]\n",
      "[0, 0, 1, 0, 4, 3]\n",
      "[0, 0, 1, 0, 4, 3, 5]\n",
      "[0, 0, 1, 0, 4, 3, 5, 6]\n",
      "[0, 0, 1, 0, 4, 3, 5, 6, 1]\n",
      "6\n"
     ]
    }
   ],
   "source": [
    "'''Maximum Subarray\n",
    "\n",
    "Given an integer array nums, find the subarray\n",
    " with the largest sum, and return its sum.\n",
    "\n",
    " \n",
    "Example 1:\n",
    "\n",
    "Input: nums = [-2,1,-3,4,-1,2,1,-5,4]\n",
    "Output: 6\n",
    "Explanation: The subarray [4,-1,2,1] has the largest sum 6.\n",
    "Example 2:\n",
    "\n",
    "Input: nums = [1]\n",
    "Output: 1\n",
    "Explanation: The subarray [1] has the largest sum 1.\n",
    "Example 3:\n",
    "\n",
    "Input: nums = [5,4,-1,7,8]\n",
    "Output: 23\n",
    "Explanation: The subarray [5,4,-1,7,8] has the largest sum 23.'''\n",
    "nums = [-2,1,-3,4,-1,2,1,-5,4]\n",
    "def maxSubArray(nums: list[int]) -> int:\n",
    "    r=0\n",
    "    op =[0]\n",
    "    while r < len(nums):\n",
    "        print(op)\n",
    "        if (op[-1]+nums[r])<=0 and nums[r] <0:\n",
    "        \n",
    "            r += 1\n",
    "            op.append(0)\n",
    "        \n",
    "        elif (op[-1] +nums[r]) >0 :\n",
    "            \n",
    "            op.append(op[-1]+nums[r])\n",
    "            r=r+1\n",
    "        else:\n",
    "            \n",
    "            op.append(nums[r])\n",
    "            \n",
    "    return max(op)\n",
    "print(maxSubArray(nums))"
   ]
  },
  {
   "cell_type": "code",
   "execution_count": 2,
   "metadata": {},
   "outputs": [
    {
     "name": "stdout",
     "output_type": "stream",
     "text": [
      "[0]\n",
      "[0, 5]\n",
      "[0, 5, 9]\n",
      "[0, 5, 9, 8]\n",
      "[0, 5, 9, 8, 15]\n",
      "23\n"
     ]
    }
   ],
   "source": [
    "### ABOVE PROBLEM USING FOR LOOP\n",
    "\n",
    "nums = [5,4,-1,7,8]\n",
    "def maxSubArray(nums: list[int]) -> int:\n",
    "    \n",
    "    op =[0]\n",
    "    for r in range(len(nums)):\n",
    "        print(op)\n",
    "        if (op[-1]+nums[r])<=0 and nums[r] <0:\n",
    "        \n",
    "            \n",
    "            op.append(0)\n",
    "        \n",
    "        elif (op[-1] +nums[r]) >0 :\n",
    "            \n",
    "            op.append(op[-1]+nums[r])\n",
    "            \n",
    "        else:\n",
    "            \n",
    "            op.append(nums[r])\n",
    "            \n",
    "    return max(op)\n",
    "print(maxSubArray(nums))"
   ]
  },
  {
   "cell_type": "code",
   "execution_count": 4,
   "metadata": {},
   "outputs": [
    {
     "name": "stdout",
     "output_type": "stream",
     "text": [
      "6\n"
     ]
    }
   ],
   "source": [
    "### ABOVE PROBLEM SIMPLE SOLUTION FROM NEETCODE\n",
    "nums = [-2,1,-3,4,-1,2,1,-5,4]\n",
    "def maxSubArray(nums: list[int]) -> int:\n",
    "    maxSub = nums[0]\n",
    "    curSum=0\n",
    "    for n in nums:\n",
    "        if curSum  < 0:\n",
    "            curSum=0\n",
    "        curSum = curSum + n\n",
    "        maxSub = max(maxSub, curSum)\n",
    "    return maxSub\n",
    "\n",
    "print(maxSubArray(nums))"
   ]
  },
  {
   "cell_type": "code",
   "execution_count": 5,
   "metadata": {},
   "outputs": [
    {
     "name": "stdout",
     "output_type": "stream",
     "text": [
      "6\n"
     ]
    }
   ],
   "source": [
    "'''Maximum Product Subarray\n",
    "\n",
    "Given an integer array nums, find a subarray\n",
    " that has the largest product, and return the product.\n",
    "\n",
    "The test cases are generated so that the answer will fit in a 32-bit integer.\n",
    "\n",
    " \n",
    "\n",
    "Example 1:\n",
    "\n",
    "Input: nums = [2,3,-2,4]\n",
    "Output: 6\n",
    "Explanation: [2,3] has the largest product 6.\n",
    "Example 2:\n",
    "\n",
    "Input: nums = [-2,0,-1]\n",
    "Output: 0\n",
    "Explanation: The result cannot be 2, because [-2,-1] is not a subarray.\n",
    "'''\n",
    "nums = [2,3,-2,4]\n",
    "def maxProduct(nums: list[int]) -> int:\n",
    "\n",
    "        res=max(nums)\n",
    "        CurMin,CurMax=1,1\n",
    "        for n in nums:\n",
    "            if n == 0:\n",
    "                CurMin,CurMax=1,1\n",
    "                continue\n",
    "            temp=n*CurMax\n",
    "            CurMax=max(n*CurMax, n*CurMin, n)\n",
    "            CurMin=min(temp, n*CurMin, n)\n",
    "            res=max(res, CurMax)\n",
    "        return res\n",
    "print(maxProduct(nums))"
   ]
  },
  {
   "cell_type": "code",
   "execution_count": 8,
   "metadata": {},
   "outputs": [
    {
     "data": {
      "text/plain": [
       "[24, 12, 8, 6]"
      ]
     },
     "execution_count": 8,
     "metadata": {},
     "output_type": "execute_result"
    }
   ],
   "source": [
    "'''Product of Array Except Self\n",
    "Given an integer array nums, return an array answer such that answer[i] is equal to the product of all the elements of nums except nums[i].\n",
    "The product of any prefix or suffix of nums is guaranteed to fit in a 32-bit integer.\n",
    "You must write an algorithm that runs in O(n) time and without using the division operation.\n",
    "\n",
    "Example 1:\n",
    "\n",
    "Input: nums = [1,2,3,4]\n",
    "Output: [24,12,8,6]\n",
    "Example 2:\n",
    "\n",
    "Input: nums = [-1,1,0,-3,3]\n",
    "Output: [0,0,9,0,0]\n",
    "'''\n",
    "nums = [1,2,3,4]\n",
    "\n",
    "def productExceptSelf(nums: list[int]) -> list[int]:\n",
    "    i,r=0,0\n",
    "    op=[]\n",
    "    for i in range(len(nums)):\n",
    "        prod=1\n",
    "        for r in range(len(nums)):\n",
    "            if i != r:\n",
    "                prod=prod*nums[r]\n",
    "        op.append(prod)\n",
    "    return op\n",
    "\n",
    "productExceptSelf(nums)\n"
   ]
  },
  {
   "cell_type": "code",
   "execution_count": 10,
   "metadata": {},
   "outputs": [
    {
     "data": {
      "text/plain": [
       "[0, 0, 9, 0, 0]"
      ]
     },
     "execution_count": 10,
     "metadata": {},
     "output_type": "execute_result"
    }
   ],
   "source": [
    "# SAME PROBLEM AS ABOVE SOLVED IN O(n) TIME COMPLEXITY\n",
    "nums = [-1,1,0,-3,3]\n",
    "\n",
    "def productExceptSelf(nums: list[int]) -> list[int]:\n",
    "    res = [1] * (len(nums))\n",
    "\n",
    "    prefix = 1\n",
    "    for i in range(len(nums)):\n",
    "        res[i] = prefix\n",
    "        prefix *= nums[i]\n",
    "    postfix = 1\n",
    "    for i in range(len(nums) - 1, -1, -1):\n",
    "        res[i] *= postfix\n",
    "        postfix *= nums[i]\n",
    "    return res\n",
    "\n",
    "productExceptSelf(nums)"
   ]
  },
  {
   "cell_type": "code",
   "execution_count": 1,
   "metadata": {},
   "outputs": [
    {
     "data": {
      "text/plain": [
       "[[-1, -1, 2], [-1, 0, 1]]"
      ]
     },
     "execution_count": 1,
     "metadata": {},
     "output_type": "execute_result"
    }
   ],
   "source": [
    "'''3Sum\n",
    "Given an integer array nums, return all the triplets [nums[i], nums[j], nums[k]] such that i != j, i != k, and j != k, and\n",
    " nums[i] + nums[j] + nums[k] == 0.\n",
    "Notice that the solution set must not contain duplicate triplets.\n",
    "\n",
    " Example 1:\n",
    "\n",
    "Input: nums = [-1,0,1,2,-1,-4]\n",
    "Output: [[-1,-1,2],[-1,0,1]]\n",
    "Explanation: \n",
    "nums[0] + nums[1] + nums[2] = (-1) + 0 + 1 = 0.\n",
    "nums[1] + nums[2] + nums[4] = 0 + 1 + (-1) = 0.\n",
    "nums[0] + nums[3] + nums[4] = (-1) + 2 + (-1) = 0.\n",
    "The distinct triplets are [-1,0,1] and [-1,-1,2].\n",
    "Notice that the order of the output and the order of the triplets does not matter.\n",
    "Example 2:\n",
    "\n",
    "Input: nums = [0,1,1]\n",
    "Output: []\n",
    "Explanation: The only possible triplet does not sum up to 0.\n",
    "Example 3:\n",
    "\n",
    "Input: nums = [0,0,0]\n",
    "Output: [[0,0,0]]\n",
    "Explanation: The only possible triplet sums up to 0.\n",
    "'''\n",
    "nums = [-1,0,1,2,-1,-4]\n",
    "def threeSum(nums: list[int]) -> list[list[int]]:\n",
    "    op=[]\n",
    "    nums.sort()\n",
    "    for i in range(len(nums)-2):\n",
    "        for j in range(i+1, len(nums)-1):\n",
    "            for k in range(j+1, len(nums)):\n",
    "                if nums[i]+nums[j]+nums[k] == 0:\n",
    "                    op.append([nums[i],nums[j],nums[k]])\n",
    "    opout=[]\n",
    "    for item in op:\n",
    "        if item not in opout:\n",
    "            opout.append(item)\n",
    "    \n",
    "    return opout\n",
    "threeSum(nums)"
   ]
  },
  {
   "cell_type": "code",
   "execution_count": 2,
   "metadata": {},
   "outputs": [
    {
     "data": {
      "text/plain": [
       "[[-1, -1, 2], [-1, 0, 1]]"
      ]
     },
     "execution_count": 2,
     "metadata": {},
     "output_type": "execute_result"
    }
   ],
   "source": [
    "# SAME PROBLEM AS ABOVE SOLVED IN NEETCODE\n",
    "nums = [-1,0,1,2,-1,-4]\n",
    "\n",
    "def threeSum(nums: list[int]) -> list[list[int]]:\n",
    "    res = []\n",
    "    nums.sort()\n",
    "\n",
    "    for i, a in enumerate(nums):\n",
    "        # Skip positive integers\n",
    "        if a > 0:\n",
    "            break\n",
    "\n",
    "        if i > 0 and a == nums[i - 1]:\n",
    "            continue\n",
    "\n",
    "        l, r = i + 1, len(nums) - 1\n",
    "        while l < r:\n",
    "            threeSum = a + nums[l] + nums[r]\n",
    "            if threeSum > 0:\n",
    "                r -= 1\n",
    "            elif threeSum < 0:\n",
    "                l += 1\n",
    "            else:\n",
    "                res.append([a, nums[l], nums[r]])\n",
    "                l += 1\n",
    "                r -= 1\n",
    "                while nums[l] == nums[l - 1] and l < r:\n",
    "                    l += 1\n",
    "                    \n",
    "    return res\n",
    "threeSum(nums)"
   ]
  },
  {
   "cell_type": "code",
   "execution_count": 3,
   "metadata": {},
   "outputs": [
    {
     "data": {
      "text/plain": [
       "49"
      ]
     },
     "execution_count": 3,
     "metadata": {},
     "output_type": "execute_result"
    }
   ],
   "source": [
    "'''Container With Most Water\n",
    "You are given an integer array height of length n. There are n vertical lines drawn such that the two endpoints of the ith line are (i, 0) and \n",
    "(i, height[i]).Find two lines that together with the x-axis form a container, such that the container contains the most water.\n",
    "Return the maximum amount of water a container can store.\n",
    "Notice that you may not slant the container.\n",
    "\n",
    "Input: height = [1,8,6,2,5,4,8,3,7]\n",
    "Output: 49\n",
    "Explanation: The above vertical lines are represented by array [1,8,6,2,5,4,8,3,7]. In this case, the max area of water (blue section) the \n",
    "container can contain is 49.\n",
    "\n",
    "Example 2:\n",
    "\n",
    "Input: height = [1,1]\n",
    "Output: 1\n",
    "'''\n",
    "\n",
    "# BRUTE FORCE APPROACH\n",
    "\n",
    "height = [1,8,6,2,5,4,8,3,7]\n",
    "\n",
    "def maxArea(height: list[int]) -> int:\n",
    "    op=[]\n",
    "    for l in range(len(height)-1):\n",
    "        for r in range(l+1, len(height)):\n",
    "            area = min(height[l], height[r])*(r-l)\n",
    "            op.append(area)\n",
    "    return max(op)\n",
    "\n",
    "maxArea(height)"
   ]
  },
  {
   "cell_type": "code",
   "execution_count": 4,
   "metadata": {},
   "outputs": [
    {
     "data": {
      "text/plain": [
       "49"
      ]
     },
     "execution_count": 4,
     "metadata": {},
     "output_type": "execute_result"
    }
   ],
   "source": [
    "# SAME PROBLEM AS ABOVE NEETCODE APPROACH O(n) time complexity\n",
    "\n",
    "height = [1,8,6,2,5,4,8,3,7]\n",
    "\n",
    "def maxArea(height: list[int]) -> int:\n",
    "    l, r = 0, len(height) - 1\n",
    "    res = 0\n",
    "    h = max(height)\n",
    "\n",
    "    while l < r:\n",
    "        res = max(res, min(height[l], height[r]) * (r - l))\n",
    "        if height[l] < height[r]:\n",
    "            l += 1\n",
    "        elif height[r] <= height[l]:\n",
    "            r -= 1\n",
    "        \n",
    "        if (r-l) * h <= res:\n",
    "            break \n",
    "    return res\n",
    "maxArea(height)"
   ]
  },
  {
   "cell_type": "code",
   "execution_count": 6,
   "metadata": {},
   "outputs": [
    {
     "data": {
      "text/plain": [
       "1"
      ]
     },
     "execution_count": 6,
     "metadata": {},
     "output_type": "execute_result"
    }
   ],
   "source": [
    "'''Find Minimum in Rotated Sorted Array\n",
    "Suppose an array of length n sorted in ascending order is rotated between 1 and n times. For example, the array nums = [0,1,2,4,5,6,7]\n",
    "might become:\n",
    "[4,5,6,7,0,1,2] if it was rotated 4 times.\n",
    "[0,1,2,4,5,6,7] if it was rotated 7 times.\n",
    "Notice that rotating an array [a[0], a[1], a[2], ..., a[n-1]] 1 time results in the array [a[n-1], a[0], a[1], a[2], ..., a[n-2]].\n",
    "Given the sorted rotated array nums of unique elements, return the minimum element of this array.\n",
    "You must write an algorithm that runs in O(log n) time.\n",
    "\n",
    "Example 1:\n",
    "\n",
    "Input: nums = [3,4,5,1,2]\n",
    "Output: 1\n",
    "Explanation: The original array was [1,2,3,4,5] rotated 3 times.\n",
    "Example 2:\n",
    "\n",
    "Input: nums = [4,5,6,7,0,1,2]\n",
    "Output: 0\n",
    "Explanation: The original array was [0,1,2,4,5,6,7] and it was rotated 4 times.\n",
    "Example 3:\n",
    "\n",
    "Input: nums = [11,13,15,17]\n",
    "Output: 11\n",
    "Explanation: The original array was [11,13,15,17] and it was rotated 4 times.\n",
    "'''\n",
    "nums = [3,4,5,1,2]\n",
    "\n",
    "def findMin(nums: list[int]) -> int:\n",
    "    l , r = 0 ,len(nums) - 1 \n",
    "    curr_min = float(\"inf\")\n",
    "    \n",
    "    while l  <  r :\n",
    "        mid = (l + r) // 2\n",
    "        curr_min = min(curr_min,nums[mid])\n",
    "        \n",
    "        # right has the min \n",
    "        if nums[mid] > nums[r]:\n",
    "            l = mid + 1\n",
    "            \n",
    "        # left has the  min \n",
    "        else:\n",
    "            r = mid - 1 \n",
    "            \n",
    "    return min(curr_min,nums[l])\n",
    "\n",
    "findMin(nums)"
   ]
  },
  {
   "cell_type": "markdown",
   "metadata": {},
   "source": [
    "# STRINGS"
   ]
  },
  {
   "cell_type": "code",
   "execution_count": 10,
   "metadata": {},
   "outputs": [
    {
     "name": "stdout",
     "output_type": "stream",
     "text": [
      "3\n"
     ]
    }
   ],
   "source": [
    "'''Longest Substring Without Repeating Characters\n",
    "Given a string s, find the length of the longest \n",
    "substring without repeating characters.\n",
    "Example 1:\n",
    "\n",
    "Input: s = \"abcabcbb\"\n",
    "Output: 3\n",
    "Explanation: The answer is \"abc\", with the length of 3.\n",
    "Example 2:\n",
    "\n",
    "Input: s = \"bbbbb\"\n",
    "Output: 1\n",
    "Explanation: The answer is \"b\", with the length of 1.\n",
    "Example 3:\n",
    "\n",
    "Input: s = \"pwwkew\"\n",
    "Output: 3\n",
    "Explanation: The answer is \"wke\", with the length of 3.\n",
    "Notice that the answer must be a substring, \"pwke\" is a subsequence and not a substring.'''\n",
    "\n",
    "###BRUTE FORCE APPROACH\n",
    "s='pwwkew'\n",
    "def lengthOfLongestSubstring(s: str) -> int:\n",
    "        op=[]\n",
    "        for i in range(len(s)-1):\n",
    "            for j in range(i+1,len(s)):\n",
    "                if len(s[i:j]) == len(set(s[i:j])):\n",
    "                    # print(len(s[i:j]))\n",
    "                    op.append(len(s[i:j]))\n",
    "                \n",
    "        return(max(op))\n",
    "print(lengthOfLongestSubstring(s))"
   ]
  },
  {
   "cell_type": "code",
   "execution_count": 18,
   "metadata": {},
   "outputs": [
    {
     "name": "stdout",
     "output_type": "stream",
     "text": [
      "4\n"
     ]
    }
   ],
   "source": [
    "'''Longest Repeating Character Replacement\n",
    "You are given a string s and an integer k. You can choose any character of the string and change it to any other uppercase English character.\n",
    " You can perform this operation at most k times.\n",
    "Return the length of the longest substring containing the same letter you can get after performing the above operations.\n",
    "Example 1:\n",
    "\n",
    "Input: s = \"ABAB\", k = 2\n",
    "Output: 4\n",
    "Explanation: Replace the two 'A's with two 'B's or vice versa.\n",
    "Example 2:\n",
    "\n",
    "Input: s = \"AABABBA\", k = 1\n",
    "Output: 4\n",
    "Explanation: Replace the one 'A' in the middle with 'B' and form \"AABBBBA\".\n",
    "The substring \"BBBB\" has the longest repeating letters, which is 4.\n",
    "There may exists other ways to achive this answer too.'''\n",
    "s = \"AABABBA\"\n",
    "k = 1\n",
    "def characterReplacement(s: str, k: int) -> int:\n",
    "        ini_set=set(s)\n",
    "        \n",
    "        # Converting set to dictionary\n",
    "        count = dict.fromkeys(ini_set, 0)\n",
    "        # print(count)\n",
    "        l=0\n",
    "        res=[]\n",
    "        for r in range(len(s)):\n",
    "            count[s[r]]=count[s[r]]+1\n",
    "            # print(count)\n",
    "            if (r-l+1)-max(count.values())<=k:\n",
    "                res.append(r-l+1)\n",
    "                # print(res)\n",
    "            else:\n",
    "                count[s[l]] -= 1\n",
    "                l=l+1\n",
    "        return max(res)\n",
    "\n",
    "print(characterReplacement(s,k))"
   ]
  },
  {
   "cell_type": "code",
   "execution_count": 24,
   "metadata": {},
   "outputs": [
    {
     "data": {
      "text/plain": [
       "4"
      ]
     },
     "execution_count": 24,
     "metadata": {},
     "output_type": "execute_result"
    }
   ],
   "source": [
    "# SAME PROBLEM AS ABOVE DIFFERENT WAY OF CREATING DICTIONARY\n",
    "\n",
    "s = \"AABABBA\"\n",
    "k = 1\n",
    "def characterReplacement(s: str, k: int) -> int:\n",
    "    l=0\n",
    "    count = {}\n",
    "    res=[]\n",
    "    for r in range(len(s)):\n",
    "        count[s[r]]= 1+ count.get(s[r],0)\n",
    "        if (r-l+1)-max(count.values())<=k:\n",
    "                res.append(r-l+1)\n",
    "                # print(res)\n",
    "        else:\n",
    "            count[s[l]] -= 1\n",
    "            l=l+1\n",
    "    return max(res)\n",
    "\n",
    "characterReplacement(s,k)"
   ]
  },
  {
   "cell_type": "code",
   "execution_count": 8,
   "metadata": {},
   "outputs": [
    {
     "name": "stdout",
     "output_type": "stream",
     "text": [
      "{'a': 0, 'b': 0, 'c': 0, 'd': 0}\n"
     ]
    }
   ],
   "source": [
    "l=['a','b','c','d']\n",
    "print(dict.fromkeys(l,0))"
   ]
  },
  {
   "cell_type": "code",
   "execution_count": 9,
   "metadata": {},
   "outputs": [
    {
     "name": "stdout",
     "output_type": "stream",
     "text": [
      "BANC\n"
     ]
    }
   ],
   "source": [
    "'''Minimum Window Substring\n",
    "Given two strings s and t of lengths m and n respectively, return the minimum window \n",
    "substring of s such that every character in t (including duplicates) is included in the window. If there is no such substring,\n",
    " return the empty string \"\".\n",
    "\n",
    "The testcases will be generated such that the answer is unique.\n",
    "\n",
    " Example 1:\n",
    "\n",
    "Input: s = \"ADOBECODEBANC\", t = \"ABC\"\n",
    "Output: \"BANC\"\n",
    "Explanation: The minimum window substring \"BANC\" includes 'A', 'B', and 'C' from string t.\n",
    "Example 2:\n",
    "\n",
    "Input: s = \"a\", t = \"a\"\n",
    "Output: \"a\"\n",
    "Explanation: The entire string s is the minimum window.\n",
    "Example 3:\n",
    "\n",
    "Input: s = \"a\", t = \"aa\"\n",
    "Output: \"\"\n",
    "Explanation: Both 'a's from t must be included in the window.\n",
    "Since the largest window of s only has one 'a', return empty string.'''\n",
    "\n",
    "s = \"ADOBECODEBANC\"\n",
    "t = \"ABC\"\n",
    "\n",
    "from collections import Counter\n",
    "\n",
    "def minWindow(s: str, t: str) -> str:\n",
    "    t_dict=Counter(list(t))\n",
    "    #print(t_dict)\n",
    "    # t_act_dict = dict.fromkeys(t_dict,0)\n",
    "    # print(t_act_dict)\n",
    "    op=[]\n",
    "    l=0\n",
    "    for l in range(len(s)):\n",
    "        t_act_dict=dict.fromkeys(t_dict,0)\n",
    "        for r in range(l,len(s)):\n",
    "            if s[r] in t_dict:\n",
    "                t_act_dict[s[r]]= 1+t_act_dict[s[r]]\n",
    "                #print(t_act_dict)\n",
    "                \n",
    "            if t_dict == t_act_dict:\n",
    "                op.append(s[l:r+1])\n",
    "                #print(op)\n",
    "                break                  \n",
    "                \n",
    "                \n",
    "    return min(op, key=len, default = \"\")\n",
    "\n",
    "print(minWindow(s,t))\n",
    "\n",
    "\n"
   ]
  },
  {
   "cell_type": "code",
   "execution_count": 3,
   "metadata": {},
   "outputs": [
    {
     "data": {
      "text/plain": [
       "True"
      ]
     },
     "execution_count": 3,
     "metadata": {},
     "output_type": "execute_result"
    }
   ],
   "source": [
    "'''Valid Anagram\n",
    "Given two strings s and t, return true if t is an anagram of s, and false otherwise.\n",
    "An Anagram is a word or phrase formed by rearranging the letters of a different word or phrase, \n",
    "typically using all the original letters exactly once.\n",
    "\n",
    "Example 1:\n",
    "\n",
    "Input: s = \"anagram\", t = \"nagaram\"\n",
    "Output: true\n",
    "Example 2:\n",
    "\n",
    "Input: s = \"rat\", t = \"car\"\n",
    "Output: false\n",
    "'''\n",
    "s = \"anagram\"\n",
    "t = \"nagaram\"\n",
    "from collections import Counter\n",
    "def isAnagram(s: str, t: str) -> bool:\n",
    "    return Counter(s)==Counter(t)\n",
    "        \n",
    "isAnagram(s,t)"
   ]
  },
  {
   "cell_type": "code",
   "execution_count": 5,
   "metadata": {},
   "outputs": [
    {
     "data": {
      "text/plain": [
       "True"
      ]
     },
     "execution_count": 5,
     "metadata": {},
     "output_type": "execute_result"
    }
   ],
   "source": [
    "# ABOVE PROBLEM USING DICTIONARY TO COUNT NUMBER OF EACH CHARACTER\n",
    "s = \"anagram\"\n",
    "t = \"nagaram\"\n",
    "def isAnagram_d(s: str, t: str) -> bool:\n",
    "    if len(s) != len(t):\n",
    "        return False\n",
    "\n",
    "    countS, countT = {}, {}\n",
    "\n",
    "    for i in range(len(s)):\n",
    "        countS[s[i]] = 1 + countS.get(s[i], 0)\n",
    "        countT[t[i]] = 1 + countT.get(t[i], 0)\n",
    "    return countS == countT\n",
    "\n",
    "isAnagram_d(s,t)"
   ]
  },
  {
   "cell_type": "code",
   "execution_count": 6,
   "metadata": {},
   "outputs": [
    {
     "data": {
      "text/plain": [
       "True"
      ]
     },
     "execution_count": 6,
     "metadata": {},
     "output_type": "execute_result"
    }
   ],
   "source": [
    "# ABOVE PROBLEM USING SORTED\n",
    "\n",
    "s = \"anagram\"\n",
    "t = \"nagaram\"\n",
    "def isAnagram_s(s: str, t: str) -> bool:\n",
    "    return sorted(s) == sorted(t)\n",
    "\n",
    "isAnagram_s(s,t)\n",
    "\n"
   ]
  },
  {
   "cell_type": "code",
   "execution_count": 17,
   "metadata": {},
   "outputs": [
    {
     "data": {
      "text/plain": [
       "dict_values([['eat', 'tea', 'ate'], ['tan', 'nat'], ['bat']])"
      ]
     },
     "execution_count": 17,
     "metadata": {},
     "output_type": "execute_result"
    }
   ],
   "source": [
    "'''Group Anagrams\n",
    "Given an array of strings strs, group the anagrams together. You can return the answer in any order.\n",
    "An Anagram is a word or phrase formed by rearranging the letters of a different word or phrase, typically \n",
    "using all the original letters exactly once.\n",
    "Example 1:\n",
    "\n",
    "Input: strs = [\"eat\",\"tea\",\"tan\",\"ate\",\"nat\",\"bat\"]\n",
    "Output: [[\"bat\"],[\"nat\",\"tan\"],[\"ate\",\"eat\",\"tea\"]]\n",
    "Example 2:\n",
    "\n",
    "Input: strs = [\"\"]\n",
    "Output: [[\"\"]]\n",
    "Example 3:\n",
    "\n",
    "Input: strs = [\"a\"]\n",
    "Output: [[\"a\"]]\n",
    "'''\n",
    "strs = [\"eat\",\"tea\",\"tan\",\"ate\",\"nat\",\"bat\"]\n",
    "def groupAnagrams(strs: list[str]) -> list[list[str]]:\n",
    "    op={}\n",
    "    for i in range(len(strs)):\n",
    "        st=\"\".join(sorted(strs[i]))\n",
    "        if st not in op:\n",
    "            op[st]= [strs[i]]\n",
    "        else:\n",
    "            op[st].append(strs[i])\n",
    "    return op.values()\n",
    "\n",
    "groupAnagrams(strs)\n",
    "\n",
    "\n"
   ]
  },
  {
   "cell_type": "code",
   "execution_count": 15,
   "metadata": {},
   "outputs": [
    {
     "name": "stdout",
     "output_type": "stream",
     "text": [
      "['abc', 'guga', 'shiva']\n",
      "['shiva', 'abc', 'guga']\n",
      "None\n",
      "['abc', 'guga', 'shiva']\n"
     ]
    }
   ],
   "source": [
    "s=[\"shiva\", \"abc\", \"guga\"]\n",
    "print(sorted(s, key=len))\n",
    "print(s)\n",
    "print(s.sort(key=len))\n",
    "print(s)"
   ]
  },
  {
   "cell_type": "code",
   "execution_count": 21,
   "metadata": {},
   "outputs": [
    {
     "name": "stdout",
     "output_type": "stream",
     "text": [
      "Counter({'B': 6, 'A': 4})\n",
      "Counter({'B': 6, 'A': 4})\n"
     ]
    }
   ],
   "source": [
    "s='ABBABAABBB'\n",
    "from collections import Counter\n",
    "print(Counter(s))\n",
    "print(Counter(list(s)))"
   ]
  },
  {
   "cell_type": "code",
   "execution_count": 53,
   "metadata": {},
   "outputs": [
    {
     "data": {
      "text/plain": [
       "(['a', 'aa', 'aaa', 'a', 'aa', 'a'], 6)"
      ]
     },
     "execution_count": 53,
     "metadata": {},
     "output_type": "execute_result"
    }
   ],
   "source": [
    "'''Palindromic Substrings\n",
    "Given a string s, return the number of palindromic substrings in it.\n",
    "A string is a palindrome when it reads the same backward as forward.\n",
    "A substring is a contiguous sequence of characters within the string.\n",
    "\n",
    "Example 1:\n",
    "\n",
    "Input: s = \"abc\"\n",
    "Output: 3\n",
    "Explanation: Three palindromic strings: \"a\", \"b\", \"c\".\n",
    "Example 2:\n",
    "\n",
    "Input: s = \"aaa\"\n",
    "Output: 6\n",
    "Explanation: Six palindromic strings: \"a\", \"a\", \"a\", \"aa\", \"aa\", \"aaa\".\n",
    "'''\n",
    "s=\"aaa\"\n",
    "def countSubstrings(s: str) -> int:\n",
    "    op=[]\n",
    "    l=0\n",
    "    for l in range(len(s)):\n",
    "        op.append(s[l])\n",
    "        for r in range(l+1,len(s)):\n",
    "            st=s[l:r+1]\n",
    "            if st ==st[::-1]:\n",
    "                op.append(st)\n",
    "    return op, len(op)\n",
    "\n",
    "countSubstrings(s)\n"
   ]
  },
  {
   "cell_type": "code",
   "execution_count": 22,
   "metadata": {},
   "outputs": [
    {
     "data": {
      "text/plain": [
       "True"
      ]
     },
     "execution_count": 22,
     "metadata": {},
     "output_type": "execute_result"
    }
   ],
   "source": [
    "'''Valid Parentheses\n",
    "Given a string s containing just the characters '(', ')', '{', '}', '[' and ']', determine if the input string is valid.\n",
    "An input string is valid if:\n",
    "\n",
    "Open brackets must be closed by the same type of brackets.\n",
    "Open brackets must be closed in the correct order.\n",
    "Every close bracket has a corresponding open bracket of the same type.\n",
    " \n",
    "Example 1:\n",
    "\n",
    "Input: s = \"()\"\n",
    "Output: true\n",
    "Example 2:\n",
    "\n",
    "Input: s = \"()[]{}\"\n",
    "Output: true\n",
    "Example 3:\n",
    "\n",
    "Input: s = \"(]\"\n",
    "Output: false\n",
    "'''\n",
    "s = \"{()}({({[]})})\"\n",
    "\n",
    "def isValid(s):\n",
    "    left = ['(','[','{']\n",
    "    right = [')',']','}']\n",
    "    dict_l ={'(':')','[':']','{':'}'}\n",
    "    stack =[]\n",
    "    for char in s:\n",
    "        if char in left:\n",
    "            stack.append(char)\n",
    "            pos = s.index(char)+1\n",
    "        elif char in right:\n",
    "            if len(stack) > 0 and s[pos]==dict_l[stack.pop()]:\n",
    "                pos = pos+1\n",
    "                continue\n",
    "            else:         \n",
    "                return False\n",
    "    return True\n",
    "            \n",
    "     \n",
    "    \n",
    "isValid(s)"
   ]
  },
  {
   "cell_type": "code",
   "execution_count": 23,
   "metadata": {},
   "outputs": [
    {
     "data": {
      "text/plain": [
       "True"
      ]
     },
     "execution_count": 23,
     "metadata": {},
     "output_type": "execute_result"
    }
   ],
   "source": [
    "# SAME PROBLEM AS ABOVE DIFFERENT APPROACH\n",
    "s = \"()[]{}\"\n",
    "\n",
    "def isValid(s: str) -> bool:\n",
    "    Map = {\")\": \"(\", \"]\": \"[\", \"}\": \"{\"}\n",
    "    stack = []\n",
    "\n",
    "    for c in s:\n",
    "        if c not in Map:\n",
    "            stack.append(c)\n",
    "            continue\n",
    "        if not stack or stack[-1] != Map[c]:\n",
    "            return False\n",
    "        stack.pop()\n",
    "\n",
    "    return not stack\n",
    "isValid(s)"
   ]
  },
  {
   "cell_type": "code",
   "execution_count": 24,
   "metadata": {},
   "outputs": [
    {
     "name": "stdout",
     "output_type": "stream",
     "text": [
      "amanaplanacanalpanama\n",
      "True\n",
      "raceacar\n",
      "False\n",
      "\n",
      "True\n"
     ]
    }
   ],
   "source": [
    "'''A phrase is a palindrome if, after converting all uppercase letters into lowercase letters and removing all non-alphanumeric \n",
    "characters, it reads the same forward and backward. Alphanumeric characters include letters and numbers.\n",
    "\n",
    "Given a string s, return true if it is a palindrome, or false otherwise.\n",
    "\n",
    "Example 1:\n",
    "\n",
    "Input: s = \"A man, a plan, a canal: Panama\"\n",
    "Output: true\n",
    "Explanation: \"amanaplanacanalpanama\" is a palindrome.\n",
    "\n",
    "Example 2:\n",
    "\n",
    "Input: s = \"race a car\"\n",
    "Output: false\n",
    "Explanation: \"raceacar\" is not a palindrome.\n",
    "\n",
    "Example 3:\n",
    "\n",
    "Input: s = \" \"\n",
    "Output: true\n",
    "Explanation: s is an empty string \"\" after removing non-alphanumeric characters.\n",
    "Since an empty string reads the same forward and backward, it is a palindrome.\n",
    "'''\n",
    "s1 = \"A man, a plan, a canal: Panama\"\n",
    "s2 = \"race a car\"\n",
    "s3 = \" \"\n",
    "import re\n",
    "def ispalindrome(s):\n",
    "    regex = re.compile('[^a-zA-Z]')\n",
    "    s = regex.sub('',s.lower())\n",
    "    print(s)\n",
    "    return s == s[::-1]\n",
    "    #if s == s[::-1]:\n",
    "     #   return True\n",
    "    #else:\n",
    "     #   return False\n",
    "    \n",
    "print(ispalindrome(s1))\n",
    "print(ispalindrome(s2))\n",
    "print(ispalindrome(s3))"
   ]
  },
  {
   "cell_type": "code",
   "execution_count": 25,
   "metadata": {},
   "outputs": [
    {
     "name": "stdout",
     "output_type": "stream",
     "text": [
      "['ada', 'aa', 'abbba', 'bbb', 'bb']\n"
     ]
    },
    {
     "data": {
      "text/plain": [
       "'abbba'"
      ]
     },
     "execution_count": 25,
     "metadata": {},
     "output_type": "execute_result"
    }
   ],
   "source": [
    "#Given a string s, return the longest palindromic substring in s.\n",
    "#Input: s = \"babad\"\n",
    "#Output: \"bab\"\n",
    "#Note: \"aba\" is also a valid answer.\n",
    "s=\"badaabbba\"\n",
    "def longestPalindrome(s):\n",
    "    l=[]\n",
    "    i=0\n",
    "    for i in range(len(s)-1):\n",
    "        for j in range(len(s), i+1 , -1):\n",
    "            s1 = s[i:j]\n",
    "            if s1 == s1[::-1]:\n",
    "                l.append(s1)\n",
    "                break\n",
    "            j -= 1\n",
    "    print(l)\n",
    "    \n",
    "    return max(l, key=len)  \n",
    "longestPalindrome(s)"
   ]
  },
  {
   "cell_type": "markdown",
   "metadata": {},
   "source": [
    "# INTERVALS"
   ]
  },
  {
   "cell_type": "code",
   "execution_count": 54,
   "metadata": {},
   "outputs": [
    {
     "data": {
      "text/plain": [
       "[[1, 2], [3, 10], [12, 16]]"
      ]
     },
     "execution_count": 54,
     "metadata": {},
     "output_type": "execute_result"
    }
   ],
   "source": [
    "'''Insert Interval\n",
    "You are given an array of non-overlapping intervals intervals where intervals[i] = [starti, endi] represent the start and the end of the ith \n",
    "interval and intervals is sorted in ascending order by starti. You are also given an interval newInterval = [start, end] that represents the \n",
    "start and end of another interval.\n",
    "\n",
    "Insert newInterval into intervals such that intervals is still sorted in ascending order by starti and intervals still does not have any \n",
    "overlapping intervals (merge overlapping intervals if necessary).\n",
    "\n",
    "Return intervals after the insertion.\n",
    "\n",
    " \n",
    "\n",
    "Example 1:\n",
    "\n",
    "Input: intervals = [[1,3],[6,9]], newInterval = [2,5]\n",
    "Output: [[1,5],[6,9]]\n",
    "Example 2:\n",
    "\n",
    "Input: intervals = [[1,2],[3,5],[6,7],[8,10],[12,16]], newInterval = [4,8]\n",
    "Output: [[1,2],[3,10],[12,16]]\n",
    "Explanation: Because the new interval [4,8] overlaps with [3,5],[6,7],[8,10].\n",
    "'''\n",
    "intervals = [[1,2],[3,5],[6,7],[8,10],[12,16]]\n",
    "newInterval = [4,8]\n",
    "def insert(intervals: list[list[int]], newInterval: list[int]) -> list[list[int]]:\n",
    "    res =[]\n",
    "    for i in range(len(intervals)):\n",
    "        if newInterval[1] < intervals[i][0]:\n",
    "            res.append(newInterval)\n",
    "            return res+intervals[i:]\n",
    "        elif newInterval[0] > intervals[i][1]:\n",
    "            res.append(intervals[i])\n",
    "        else:\n",
    "            newInterval= [min(newInterval[0], intervals[i][0]), max(newInterval[1], intervals[i][1])]\n",
    "    res.append(newInterval)\n",
    "    return res\n",
    "insert(intervals,newInterval)"
   ]
  },
  {
   "cell_type": "code",
   "execution_count": 1,
   "metadata": {},
   "outputs": [
    {
     "data": {
      "text/plain": [
       "[[1, 6], [8, 10], [15, 18]]"
      ]
     },
     "execution_count": 1,
     "metadata": {},
     "output_type": "execute_result"
    }
   ],
   "source": [
    "'''Merge Intervals\n",
    "Given an array of intervals where intervals[i] = [starti, endi], merge all overlapping intervals, and return an array of the non-overlapping \n",
    "intervals that cover all the intervals in the input.\n",
    "\n",
    "Example 1:\n",
    "\n",
    "Input: intervals = [[1,3],[2,6],[8,10],[15,18]]\n",
    "Output: [[1,6],[8,10],[15,18]]\n",
    "Explanation: Since intervals [1,3] and [2,6] overlap, merge them into [1,6].\n",
    "Example 2:\n",
    "\n",
    "Input: intervals = [[1,4],[4,5]]\n",
    "Output: [[1,5]]\n",
    "Explanation: Intervals [1,4] and [4,5] are considered overlapping.\n",
    "'''\n",
    "intervals = [[1,3],[2,6],[8,10],[15,18]]\n",
    "\n",
    "def merge(intervals: list[list[int]]) -> list[list[int]]:\n",
    "    intervals.sort(key= lambda x:x[0])\n",
    "    res=[intervals[0]]\n",
    "    for i in range(len(intervals)):\n",
    "        if res[-1][1] >= intervals[i][0]:\n",
    "            res[-1][1]=max(res[-1][1], intervals[i][1])\n",
    "        elif res[-1][1] < intervals[i][0]:\n",
    "            res.append(intervals[i])\n",
    "            \n",
    "    return res\n",
    "\n",
    "merge(intervals)"
   ]
  },
  {
   "cell_type": "code",
   "execution_count": 5,
   "metadata": {},
   "outputs": [
    {
     "data": {
      "text/plain": [
       "[[1, 6], [8, 10], [15, 18]]"
      ]
     },
     "execution_count": 5,
     "metadata": {},
     "output_type": "execute_result"
    }
   ],
   "source": [
    "# SAME PROBLEM AS ABOVE SOLVED DIFFERENTLY\n",
    "intervals = [[1,3],[2,6],[8,10],[15,18]]\n",
    "\n",
    "def merge(intervals: list[list[int]]) -> list[list[int]]:\n",
    "    intervals.sort(key=lambda pair: pair[0])\n",
    "    output = [intervals[0]]\n",
    "\n",
    "    for start, end in intervals:\n",
    "        lastEnd = output[-1][1]\n",
    "\n",
    "        if start <= lastEnd:\n",
    "            # merge\n",
    "            output[-1][1] = max(lastEnd, end)\n",
    "        else:\n",
    "            output.append([start, end])\n",
    "    return output\n",
    "\n",
    "merge(intervals)"
   ]
  },
  {
   "cell_type": "code",
   "execution_count": 2,
   "metadata": {},
   "outputs": [
    {
     "data": {
      "text/plain": [
       "1"
      ]
     },
     "execution_count": 2,
     "metadata": {},
     "output_type": "execute_result"
    }
   ],
   "source": [
    "'''Non-overlapping Intervals\n",
    "Given an array of intervals intervals where intervals[i] = [starti, endi], return the minimum number of intervals you need to remove to \n",
    "make the rest of the intervals non-overlapping.\n",
    "Example 1:\n",
    "\n",
    "Input: intervals = [[1,2],[2,3],[3,4],[1,3]]\n",
    "Output: 1\n",
    "Explanation: [1,3] can be removed and the rest of the intervals are non-overlapping.\n",
    "Example 2:\n",
    "\n",
    "Input: intervals = [[1,2],[1,2],[1,2]]\n",
    "Output: 2\n",
    "Explanation: You need to remove two [1,2] to make the rest of the intervals non-overlapping.\n",
    "Example 3:\n",
    "\n",
    "Input: intervals = [[1,2],[2,3]]\n",
    "Output: 0\n",
    "Explanation: You don't need to remove any of the intervals since they're already non-overlapping.\n",
    "'''\n",
    "intervals = [[1,2],[2,3],[3,4],[1,3]]\n",
    "\n",
    "def eraseOverlapIntervals(intervals: list[list[int]]) -> int:\n",
    "    intervals.sort(key= lambda x:x[0])\n",
    "    res=[intervals[0]]\n",
    "    op=0\n",
    "    for i in range(1, len(intervals)):\n",
    "        if res[-1][1] > intervals[i][0]:\n",
    "            op=op+1\n",
    "        else:\n",
    "            res.append(intervals[i])\n",
    "    return op\n",
    "\n",
    "eraseOverlapIntervals(intervals)"
   ]
  },
  {
   "cell_type": "code",
   "execution_count": 3,
   "metadata": {},
   "outputs": [
    {
     "data": {
      "text/plain": [
       "1"
      ]
     },
     "execution_count": 3,
     "metadata": {},
     "output_type": "execute_result"
    }
   ],
   "source": [
    "# SAME PROBLEM AS ABOVE SOLVED DIFFERENTLY\n",
    "intervals = [[1,2],[2,3],[3,4],[1,3]]\n",
    "def eraseOverlapIntervals(intervals: list[list[int]]) -> int:\n",
    "    intervals.sort()\n",
    "    res = 0\n",
    "    prevEnd = intervals[0][1]\n",
    "    for start, end in intervals[1:]:\n",
    "        if start >= prevEnd:\n",
    "            prevEnd = end\n",
    "        else:\n",
    "            res += 1\n",
    "            prevEnd = min(end, prevEnd)\n",
    "    return res\n",
    "eraseOverlapIntervals(intervals)"
   ]
  },
  {
   "cell_type": "code",
   "execution_count": 6,
   "metadata": {},
   "outputs": [
    {
     "data": {
      "text/plain": [
       "False"
      ]
     },
     "execution_count": 6,
     "metadata": {},
     "output_type": "execute_result"
    }
   ],
   "source": [
    "'''Meeting Rooms\n",
    "Description\n",
    "Given an array of meeting time intervals consisting of start and end times [[s1,e1],[s2,e2],...] (si < ei), determine if a person could attend all \n",
    "meetings.\n",
    "\n",
    "(0,8),(8,10) is not conflict at 8\n",
    "\n",
    "Example1\n",
    "\n",
    "Input: intervals = [(0,30),(5,10),(15,20)]\n",
    "Output: false\n",
    "Explanation: \n",
    "(0,30), (5,10) and (0,30),(15,20) will conflict\n",
    "Example2\n",
    "\n",
    "Input: intervals = [(5,8),(9,15)]\n",
    "Output: true\n",
    "Explanation: \n",
    "Two times will not conflict \n",
    "'''\n",
    "intervals = [(0,30),(5,10),(15,20)]\n",
    "\n",
    "def canAttendMeetings(intervals):\n",
    "    intervals.sort(key=lambda i: i[0])\n",
    "\n",
    "    for i in range(1, len(intervals)):\n",
    "        i1 = intervals[i - 1]\n",
    "        i2 = intervals[i]\n",
    "\n",
    "        if i1[1] > i2[0]:\n",
    "            return False\n",
    "    return True\n",
    "\n",
    "canAttendMeetings(intervals)"
   ]
  },
  {
   "cell_type": "code",
   "execution_count": 7,
   "metadata": {},
   "outputs": [
    {
     "data": {
      "text/plain": [
       "2"
      ]
     },
     "execution_count": 7,
     "metadata": {},
     "output_type": "execute_result"
    }
   ],
   "source": [
    "'''Meeting Rooms II\n",
    "Description\n",
    "Given an array of meeting time intervals consisting of start and end times [[s1,e1],[s2,e2],...] (si < ei), find the minimum number of \n",
    "conference rooms required.)\n",
    "\n",
    "(0,8),(8,10) is not conflict at 8\n",
    "\n",
    "Example1\n",
    "\n",
    "Input: intervals = [(0,30),(5,10),(15,20)]\n",
    "Output: 2\n",
    "Explanation:\n",
    "We need two meeting rooms\n",
    "room1: (0,30)\n",
    "room2: (5,10),(15,20)\n",
    "\n",
    "Example2\n",
    "\n",
    "Input: intervals = [(2,7)]\n",
    "Output: 1\n",
    "Explanation: \n",
    "Only need one meeting room\n",
    "'''\n",
    "intervals = [(0,30),(5,10),(15,20)]\n",
    "\n",
    "def minMeetingRooms(intervals: list[list[int]]) -> int:\n",
    "    time = []\n",
    "    for start, end in intervals:\n",
    "        time.append((start, 1))\n",
    "        time.append((end, -1))\n",
    "    \n",
    "    time.sort(key=lambda x: (x[0], x[1]))\n",
    "    \n",
    "    count = 0\n",
    "    max_count = 0\n",
    "    for t in time:\n",
    "        count += t[1]\n",
    "        max_count = max(max_count, count)\n",
    "    return max_count\n",
    "minMeetingRooms(intervals)"
   ]
  },
  {
   "cell_type": "markdown",
   "metadata": {},
   "source": [
    "# DYNAMIC PROGRAMMING"
   ]
  },
  {
   "cell_type": "code",
   "execution_count": null,
   "metadata": {},
   "outputs": [],
   "source": [
    "'''Climbing Stairs\n",
    "\n",
    "You are climbing a staircase. It takes n steps to reach the top.\n",
    "\n",
    "Each time you can either climb 1 or 2 steps. In how many distinct ways can you climb to the top?\n",
    "\n",
    "Example 1:\n",
    "\n",
    "Input: n = 2\n",
    "Output: 2\n",
    "Explanation: There are two ways to climb to the top.\n",
    "1. 1 step + 1 step\n",
    "2. 2 steps\n",
    "Example 2:\n",
    "\n",
    "Input: n = 3\n",
    "Output: 3\n",
    "Explanation: There are three ways to climb to the top.\n",
    "1. 1 step + 1 step + 1 step\n",
    "2. 1 step + 2 steps\n",
    "3. 2 steps + 1 step\n",
    "'''\n",
    "### USING DYNAMIC PROGRAMMING\n",
    "\n",
    "def climbStairs(n: int) -> int:\n",
    "    dp = [-1]*(n+1)\n",
    "    for i in range(n+1):\n",
    "        if i <=2:\n",
    "            dp[i]=i\n",
    "        else:\n",
    "            dp[i]=dp[i-1]+dp[i-2]     ### RECURRENCE RELATION\n",
    "\n",
    "    return dp[n]\n",
    "\n",
    "print(climbStairs(5))"
   ]
  },
  {
   "cell_type": "code",
   "execution_count": 9,
   "metadata": {},
   "outputs": [
    {
     "data": {
      "text/plain": [
       "3"
      ]
     },
     "execution_count": 9,
     "metadata": {},
     "output_type": "execute_result"
    }
   ],
   "source": [
    "'''Coin Change\n",
    "You are given an integer array coins representing coins of different denominations and an integer amount representing a total amount of money.\n",
    "Return the fewest number of coins that you need to make up that amount. If that amount of money cannot be made up by any combination of the coins,\n",
    " return -1.\n",
    "You may assume that you have an infinite number of each kind of coin.\n",
    "\n",
    "Example 1:\n",
    "\n",
    "Input: coins = [1,2,5], amount = 11\n",
    "Output: 3\n",
    "Explanation: 11 = 5 + 5 + 1\n",
    "Example 2:\n",
    "\n",
    "Input: coins = [2], amount = 3\n",
    "Output: -1\n",
    "Example 3:\n",
    "\n",
    "Input: coins = [1], amount = 0\n",
    "Output: 0\n",
    "'''\n",
    "def coinChange(coins: list[int], amount: int) -> int:\n",
    "    dp=[amount+1]*(amount+1)\n",
    "    dp[0]=0\n",
    "    for a in range(1, amount+1):\n",
    "        for c in coins:\n",
    "            if a-c >= 0:\n",
    "               dp[a]=min(dp[a], 1 + dp[a-c])\n",
    "    return dp[amount] if dp[amount] != amount+1  else -1\n",
    "\n",
    "coinChange([1,2,5], amount = 11)"
   ]
  },
  {
   "cell_type": "code",
   "execution_count": 7,
   "metadata": {},
   "outputs": [
    {
     "data": {
      "text/plain": [
       "4"
      ]
     },
     "execution_count": 7,
     "metadata": {},
     "output_type": "execute_result"
    }
   ],
   "source": [
    "'''Longest Increasing Subsequence\n",
    "Given an integer array nums, return the length of the longest strictly increasing \n",
    "subsequence.\n",
    "Example 1:\n",
    "\n",
    "Input: nums = [10,9,2,5,3,7,101,18]\n",
    "Output: 4\n",
    "Explanation: The longest increasing subsequence is [2,3,7,101], therefore the length is 4.\n",
    "Example 2:\n",
    "\n",
    "Input: nums = [0,1,0,3,2,3]\n",
    "Output: 4\n",
    "Example 3:\n",
    "\n",
    "Input: nums = [7,7,7,7,7,7,7]\n",
    "Output: 1\n",
    "'''\n",
    "def lengthOfLIS(nums: list[int]) -> int:\n",
    "    dp=[1]*len(nums)\n",
    "\n",
    "    for i in range(len(nums)-1,-1,-1):\n",
    "        for j in range(i+1,len(nums)):\n",
    "            if nums[j] > nums[i]:\n",
    "                dp[i]= max(dp[i], 1+dp[j])\n",
    "    return max(dp)\n",
    "nums = [0,1,0,3,2,3]\n",
    "lengthOfLIS(nums)"
   ]
  },
  {
   "cell_type": "code",
   "execution_count": 8,
   "metadata": {},
   "outputs": [
    {
     "data": {
      "text/plain": [
       "3"
      ]
     },
     "execution_count": 8,
     "metadata": {},
     "output_type": "execute_result"
    }
   ],
   "source": [
    "'''Longest Common Subsequence\n",
    "Given two strings text1 and text2, return the length of their longest common subsequence. If there is no common subsequence, return 0.\n",
    "A subsequence of a string is a new string generated from the original string with some characters (can be none) deleted without changing \n",
    "the relative order of the remaining characters.\n",
    "\n",
    "For example, \"ace\" is a subsequence of \"abcde\".\n",
    "A common subsequence of two strings is a subsequence that is common to both strings.\n",
    "\n",
    "Example 1:\n",
    "\n",
    "Input: text1 = \"abcde\", text2 = \"ace\" \n",
    "Output: 3  \n",
    "Explanation: The longest common subsequence is \"ace\" and its length is 3.\n",
    "Example 2:\n",
    "\n",
    "Input: text1 = \"abc\", text2 = \"abc\"\n",
    "Output: 3\n",
    "Explanation: The longest common subsequence is \"abc\" and its length is 3.\n",
    "Example 3:\n",
    "\n",
    "Input: text1 = \"abc\", text2 = \"def\"\n",
    "Output: 0\n",
    "Explanation: There is no such common subsequence, so the result is 0.\n",
    "'''\n",
    "\n",
    "def longestCommonSubsequence(text1: str, text2: str) -> int:\n",
    "    dp = [[0 for j in range(len(text2) + 1)] for i in range(len(text1) + 1)]   # j is column i is row\n",
    "\n",
    "    for i in range(len(text1) - 1, -1, -1):\n",
    "        for j in range(len(text2) - 1, -1, -1):\n",
    "            if text1[i] == text2[j]:\n",
    "                dp[i][j] = 1 + dp[i + 1][j + 1]\n",
    "            else:\n",
    "                dp[i][j] = max(dp[i][j + 1], dp[i + 1][j])\n",
    "\n",
    "    return dp[0][0]\n",
    "\n",
    "text1 = \"abcde\"\n",
    "text2 = \"ace\"\n",
    "longestCommonSubsequence(text1, text2)"
   ]
  },
  {
   "cell_type": "code",
   "execution_count": 39,
   "metadata": {},
   "outputs": [
    {
     "data": {
      "text/plain": [
       "0"
      ]
     },
     "execution_count": 39,
     "metadata": {},
     "output_type": "execute_result"
    }
   ],
   "source": [
    "'''Combination Sum IV\n",
    "Given an array of distinct integers nums and a target integer target, return the number of possible combinations that add up to target.\n",
    "The test cases are generated so that the answer can fit in a 32-bit integer.\n",
    "\n",
    "Example 1:\n",
    "\n",
    "Input: nums = [1,2,3], target = 4\n",
    "Output: 7\n",
    "Explanation:\n",
    "The possible combination ways are:\n",
    "(1, 1, 1, 1)\n",
    "(1, 1, 2)\n",
    "(1, 2, 1)\n",
    "(1, 3)\n",
    "(2, 1, 1)\n",
    "(2, 2)\n",
    "(3, 1)\n",
    "Note that different sequences are counted as different combinations.\n",
    "Example 2:\n",
    "\n",
    "Input: nums = [9], target = 3\n",
    "Output: 0\n",
    "'''\n",
    "\n",
    "def combinationSum4(nums: list[int], target: int) -> int:\n",
    "    dp=[0]*(target+1)\n",
    "    dp[0]=1\n",
    "    for total in range(1, target+1):\n",
    "        # dp[total]=0\n",
    "        for dint in nums:\n",
    "            if total-dint >= 0:\n",
    "                dp[total]+=dp[total-dint]\n",
    "                # print(dp[total]) \n",
    "    return dp[target]\n",
    "\n",
    "combinationSum4(nums =[9], target = 4)"
   ]
  },
  {
   "cell_type": "code",
   "execution_count": 67,
   "metadata": {},
   "outputs": [
    {
     "name": "stdout",
     "output_type": "stream",
     "text": [
      "True 6\n"
     ]
    },
    {
     "data": {
      "text/plain": [
       "False"
      ]
     },
     "execution_count": 67,
     "metadata": {},
     "output_type": "execute_result"
    }
   ],
   "source": [
    "'''Word Break\n",
    "Given a string s and a dictionary of strings wordDict, return true if s can be segmented into a space-separated sequence of one or more \n",
    "dictionary words.\n",
    "Note that the same word in the dictionary may be reused multiple times in the segmentation.\n",
    "Example 1:\n",
    "\n",
    "Input: s = \"leetcode\", wordDict = [\"leet\",\"code\"]\n",
    "Output: true\n",
    "Explanation: Return true because \"leetcode\" can be segmented as \"leet code\".\n",
    "Example 2:\n",
    "\n",
    "Input: s = \"applepenapple\", wordDict = [\"apple\",\"pen\"]\n",
    "Output: true\n",
    "Explanation: Return true because \"applepenapple\" can be segmented as \"apple pen apple\".\n",
    "Note that you are allowed to reuse a dictionary word.\n",
    "Example 3:\n",
    "\n",
    "Input: s = \"catsandog\", wordDict = [\"cats\",\"dog\",\"sand\",\"and\",\"cat\"]\n",
    "Output: false\n",
    "'''\n",
    "def wordBreak(s: str, wordDict: list[str]) -> bool:\n",
    "    dp=[False]*(len(s)+1)\n",
    "    dp[len(s)]=True\n",
    "    for i in range(len(s)-1,-1,-1):\n",
    "        \n",
    "        for w in wordDict:\n",
    "            if i+len(w)<=len(s) and s[i:i+len(w)] == w:\n",
    "                dp[i] = dp[i+len(w)]\n",
    "            if dp[i]:\n",
    "                print(dp[i],i)\n",
    "                break\n",
    "    return dp[0]\n",
    "s = \"catsandog\"\n",
    "wordDict = [\"cats\",\"dog\",\"sand\",\"and\",\"cat\"]\n",
    "#s = \"applepenapple\"\n",
    "#wordDict = [\"apple\",\"pen\"]\n",
    "#s = \"leetcode\"\n",
    "#wordDict = [\"leet\",\"code\"]\n",
    "wordBreak(s, wordDict)"
   ]
  },
  {
   "cell_type": "code",
   "execution_count": 7,
   "metadata": {},
   "outputs": [
    {
     "data": {
      "text/plain": [
       "12"
      ]
     },
     "execution_count": 7,
     "metadata": {},
     "output_type": "execute_result"
    }
   ],
   "source": [
    "'''House Robber\n",
    "You are a professional robber planning to rob houses along a street. Each house has a certain amount of money stashed, the only constraint \n",
    "stopping you from robbing each of them is that adjacent houses have security systems connected and it will automatically contact the police if \n",
    "two adjacent houses were broken into on the same night.\n",
    "Given an integer array nums representing the amount of money of each house, return the maximum amount of money you can rob tonight without \n",
    "alerting the police.\n",
    "\n",
    "Example 1:\n",
    "\n",
    "Input: nums = [1,2,3,1]\n",
    "Output: 4\n",
    "Explanation: Rob house 1 (money = 1) and then rob house 3 (money = 3).\n",
    "Total amount you can rob = 1 + 3 = 4.\n",
    "Example 2:\n",
    "\n",
    "Input: nums = [2,7,9,3,1]\n",
    "Output: 12\n",
    "Explanation: Rob house 1 (money = 2), rob house 3 (money = 9) and rob house 5 (money = 1).\n",
    "Total amount you can rob = 2 + 9 + 1 = 12.\n",
    "'''\n",
    "nums=[2,7,9,3,1]\n",
    "\n",
    "def rob(nums: list[int]) -> int:\n",
    "    n=len(nums)\n",
    "    dp=[0]*(n+1)\n",
    "    dp[0]=0\n",
    "    dp[1]=nums[0]\n",
    "    for i in range(1,n):\n",
    "        including_curr_house=nums[i]+dp[i-1]\n",
    "        excluding_curr_house=dp[i]\n",
    "        dp[i+1]= max(including_curr_house, excluding_curr_house)\n",
    "    return dp[n]\n",
    "\n",
    "rob(nums)"
   ]
  },
  {
   "cell_type": "code",
   "execution_count": 8,
   "metadata": {},
   "outputs": [
    {
     "data": {
      "text/plain": [
       "4"
      ]
     },
     "execution_count": 8,
     "metadata": {},
     "output_type": "execute_result"
    }
   ],
   "source": [
    "'''House Robber II\n",
    "You are a professional robber planning to rob houses along a street. Each house has a certain amount of money stashed. All houses at this place \n",
    "are arranged in a circle. That means the first house is the neighbor of the last one. Meanwhile, adjacent houses have a security system connected,\n",
    " and it will automatically contact the police if two adjacent houses were broken into on the same night.\n",
    "\n",
    "Given an integer array nums representing the amount of money of each house, return the maximum amount of money you can rob tonight without \n",
    "alerting the police.\n",
    "\n",
    "Example 1:\n",
    "\n",
    "Input: nums = [2,3,2]\n",
    "Output: 3\n",
    "Explanation: You cannot rob house 1 (money = 2) and then rob house 3 (money = 2), because they are adjacent houses.\n",
    "Example 2:\n",
    "\n",
    "Input: nums = [1,2,3,1]\n",
    "Output: 4\n",
    "Explanation: Rob house 1 (money = 1) and then rob house 3 (money = 3).\n",
    "Total amount you can rob = 1 + 3 = 4.\n",
    "Example 3:\n",
    "\n",
    "Input: nums = [1,2,3]\n",
    "Output: 3\n",
    "'''\n",
    "nums = [1,2,3,1]\n",
    "\n",
    "def rob(houses: list[int]) -> int:\n",
    "    if len(houses) == 1:\n",
    "        return houses[0]\n",
    "    if len(houses) == 2 or len(houses) == 3:\n",
    "        return max(houses)\n",
    "    \n",
    "    def find(nums):\n",
    "        n = len(nums)\n",
    "    \n",
    "        dp = [0] * n\n",
    "        dp[0], dp[1], dp[2] = nums[0], nums[1], nums[2] + nums[0]\n",
    "    \n",
    "        for i in range(3, n):\n",
    "            dp[i] = max(dp[i-2], dp[i-3]) + nums[i]\n",
    "    \n",
    "    \n",
    "        return max(dp[-1], dp[-2])\n",
    "\n",
    "    return max(find(houses[1:]), find(houses[:-1]))\n",
    "\n",
    "rob(nums)\n"
   ]
  },
  {
   "cell_type": "code",
   "execution_count": 10,
   "metadata": {},
   "outputs": [
    {
     "data": {
      "text/plain": [
       "3"
      ]
     },
     "execution_count": 10,
     "metadata": {},
     "output_type": "execute_result"
    }
   ],
   "source": [
    "'''Decode Ways\n",
    "A message containing letters from A-Z can be encoded into numbers using the following mapping:\n",
    "\n",
    "'A' -> \"1\"\n",
    "'B' -> \"2\"\n",
    "...\n",
    "'Z' -> \"26\"\n",
    "To decode an encoded message, all the digits must be grouped then mapped back into letters using the reverse of the mapping above (there \n",
    "may be multiple ways). For example, \"11106\" can be mapped into:\n",
    "\n",
    "\"AAJF\" with the grouping (1 1 10 6)\n",
    "\"KJF\" with the grouping (11 10 6)\n",
    "Note that the grouping (1 11 06) is invalid because \"06\" cannot be mapped into 'F' since \"6\" is different from \"06\".\n",
    "\n",
    "Given a string s containing only digits, return the number of ways to decode it.\n",
    "\n",
    "The test cases are generated so that the answer fits in a 32-bit integer.\n",
    "\n",
    " Example 1:\n",
    "\n",
    "Input: s = \"12\"\n",
    "Output: 2\n",
    "Explanation: \"12\" could be decoded as \"AB\" (1 2) or \"L\" (12).\n",
    "Example 2:\n",
    "\n",
    "Input: s = \"226\"\n",
    "Output: 3\n",
    "Explanation: \"226\" could be decoded as \"BZ\" (2 26), \"VF\" (22 6), or \"BBF\" (2 2 6).\n",
    "Example 3:\n",
    "\n",
    "Input: s = \"06\"\n",
    "Output: 0\n",
    "Explanation: \"06\" cannot be mapped to \"F\" because of the leading zero (\"6\" is different from \"06\").\n",
    "'''\n",
    "s = \"226\"\n",
    "\n",
    "# Dynamic Programming\n",
    "def numDecodings(s: str) -> int:\n",
    "    dp = {len(s): 1}\n",
    "    for i in range(len(s) - 1, -1, -1):\n",
    "        if s[i] == \"0\":\n",
    "            dp[i] = 0\n",
    "        else:\n",
    "            dp[i] = dp[i + 1]\n",
    "\n",
    "        if i + 1 < len(s) and (\n",
    "            s[i] == \"1\" or s[i] == \"2\" and s[i + 1] in \"0123456\"\n",
    "        ):\n",
    "            dp[i] += dp[i + 2]\n",
    "    return dp[0]\n",
    "\n",
    "numDecodings(s)"
   ]
  },
  {
   "cell_type": "code",
   "execution_count": 12,
   "metadata": {},
   "outputs": [
    {
     "data": {
      "text/plain": [
       "3"
      ]
     },
     "execution_count": 12,
     "metadata": {},
     "output_type": "execute_result"
    }
   ],
   "source": [
    "# SAME PROBLEM AS ABOVE USING DEPTH FIRST SEARCH\n",
    "s = \"226\"\n",
    "\n",
    "def numDecodings(s: str) -> int:\n",
    "    # Memoization\n",
    "    dp = {len(s): 1}\n",
    "\n",
    "    def dfs(i):\n",
    "        if i in dp:\n",
    "            return dp[i]\n",
    "        if s[i] == \"0\":\n",
    "            return 0\n",
    "\n",
    "        res = dfs(i + 1)\n",
    "        if i + 1 < len(s) and (\n",
    "            s[i] == \"1\" or s[i] == \"2\" and s[i + 1] in \"0123456\"\n",
    "        ):\n",
    "            res += dfs(i + 2)\n",
    "        dp[i] = res\n",
    "        return res\n",
    "\n",
    "    return dfs(0)\n",
    "\n",
    "numDecodings(s)"
   ]
  },
  {
   "cell_type": "code",
   "execution_count": 7,
   "metadata": {},
   "outputs": [
    {
     "data": {
      "text/plain": [
       "28"
      ]
     },
     "execution_count": 7,
     "metadata": {},
     "output_type": "execute_result"
    }
   ],
   "source": [
    "'''Unique Paths\n",
    "There is a robot on an m x n grid. The robot is initially located at the top-left corner (i.e., grid[0][0]). The robot tries to move to the \n",
    "bottom-right corner (i.e., grid[m - 1][n - 1]). The robot can only move either down or right at any point in time.\n",
    "Given the two integers m and n, return the number of possible unique paths that the robot can take to reach the bottom-right corner.\n",
    "The test cases are generated so that the answer will be less than or equal to 2 * 109.\n",
    "m...rows, n...cols\n",
    "Example 1:\n",
    "\n",
    "Input: m = 3, n = 7\n",
    "Output: 28\n",
    "\n",
    "Example 2:\n",
    "\n",
    "Input: m = 3, n = 2\n",
    "Output: 3\n",
    "Explanation: From the top-left corner, there are a total of 3 ways to reach the bottom-right corner:\n",
    "1. Right -> Down -> Down\n",
    "2. Down -> Down -> Right\n",
    "3. Down -> Right -> Down\n",
    "'''\n",
    "\n",
    "def uniquePaths(m: int, n: int) -> int:\n",
    "    dp=[[None for _ in range(n)] for _ in range(m)]\n",
    "    # print(dp)\n",
    "    for i in range(m):\n",
    "        for j in range(n):\n",
    "            if i==0 or j==0:\n",
    "                dp[i][j] = 1\n",
    "                # print(dp)\n",
    "            else:\n",
    "                dp[i][j] = dp[i-1][j] + dp[i][j-1]\n",
    "    return dp[m-1][n-1]\n",
    "m = 3\n",
    "n = 7\n",
    "uniquePaths(m,n)"
   ]
  },
  {
   "cell_type": "code",
   "execution_count": 17,
   "metadata": {},
   "outputs": [
    {
     "data": {
      "text/plain": [
       "False"
      ]
     },
     "execution_count": 17,
     "metadata": {},
     "output_type": "execute_result"
    }
   ],
   "source": [
    "'''Jump Game\n",
    "You are given an integer array nums. You are initially positioned at the array's first index, and each element in the array represents your \n",
    "maximum jump length at that position.\n",
    "Return true if you can reach the last index, or false otherwise.\n",
    "\n",
    "Example 1:\n",
    "\n",
    "Input: nums = [2,3,1,1,4]\n",
    "Output: true\n",
    "Explanation: Jump 1 step from index 0 to 1, then 3 steps to the last index.\n",
    "Example 2:\n",
    "\n",
    "Input: nums = [3,2,1,0,4]\n",
    "Output: false\n",
    "Explanation: You will always arrive at index 3 no matter what. Its maximum jump length is 0, which makes it impossible to reach the last index.\n",
    "'''\n",
    "# DYNAMIC PROGRAMMING SOLUTION\n",
    "\n",
    "nums = [3,2,1,0,4]\n",
    "\n",
    "def canJump(nums):\n",
    "    dp = [False]*len(nums)\n",
    "    dp[0] = True\n",
    "    for i in range(1,len(nums)):\n",
    "        for j in range(i-1,-1,-1):\n",
    "            if dp[j] == True and nums[j] + j >= i:\n",
    "                dp[i] = True\n",
    "                break\n",
    "    return dp[-1]\n",
    "canJump(nums)"
   ]
  },
  {
   "cell_type": "code",
   "execution_count": 21,
   "metadata": {},
   "outputs": [
    {
     "name": "stdout",
     "output_type": "stream",
     "text": [
      "True\n",
      "False\n"
     ]
    }
   ],
   "source": [
    "# SAME PROBLEM AS ABOVE GREEDY SOLUTION\n",
    "nums = [2,3,1,1,4]\n",
    "nums1 = [3,2,1,0,4]\n",
    "\n",
    "def canJump(nums: list[int]) -> bool:\n",
    "    goal = len(nums) - 1\n",
    "\n",
    "    for i in range(len(nums) - 2, -1, -1):\n",
    "        if i + nums[i] >= goal:\n",
    "            goal = i\n",
    "    return goal == 0\n",
    "print(canJump(nums))\n",
    "print(canJump(nums1))"
   ]
  },
  {
   "cell_type": "markdown",
   "metadata": {},
   "source": [
    "# TREES"
   ]
  },
  {
   "cell_type": "code",
   "execution_count": 72,
   "metadata": {},
   "outputs": [
    {
     "name": "stdout",
     "output_type": "stream",
     "text": [
      "1\n",
      "4\n",
      "3\n",
      "5\n",
      "6\n",
      "4\n"
     ]
    }
   ],
   "source": [
    "'''Maximum Depth of Binary Tree\n",
    "Given the root of a binary tree, return its maximum depth.\n",
    "\n",
    "A binary tree's maximum depth is the number of nodes along the longest path from the root node down to the farthest leaf node.\n",
    "'''\n",
    "# DEPTH FIRST SEARCH\n",
    "class TreeNode:\n",
    "    def __init__(self,value: int):\n",
    "        self.left=None\n",
    "        self.right=None\n",
    "        self.value=value\n",
    "    def treeDepth(self,root):\n",
    "        if root is None:\n",
    "            return 0\n",
    "        print(root.value)\n",
    "        left = self.treeDepth(root.left)\n",
    "        right = self.treeDepth(root.right)\n",
    "        return 1 + max(left,right)\n",
    "root=TreeNode(1)\n",
    "root.right=TreeNode(4)\n",
    "root.right.left= TreeNode(3)\n",
    "root.right.right=TreeNode(5)\n",
    "root.right.right.right=TreeNode(6)\n",
    "\n",
    "print(root.treeDepth(root))"
   ]
  },
  {
   "cell_type": "code",
   "execution_count": null,
   "metadata": {},
   "outputs": [],
   "source": [
    "'''Invert Binary Tree\n",
    "Given the root of a binary tree, invert the tree, and return its root.\n",
    "Example 1:\n",
    "\n",
    "Input: root = [4,2,7,1,3,6,9]\n",
    "Output: [4,7,2,9,6,3,1]\n",
    "Example 2:\n",
    "\n",
    "Input: root = [2,1,3]\n",
    "Output: [2,3,1]\n",
    "Example 3:\n",
    "\n",
    "Input: root = []\n",
    "Output: []\n",
    "'''\n",
    "\n",
    "# Definition for a binary tree node.\n",
    "# class TreeNode:\n",
    "#     def __init__(self, val=0, left=None, right=None):\n",
    "#         self.val = val\n",
    "#         self.left = left\n",
    "#         self.right = right\n",
    "class Solution:\n",
    "    def invertTree(self, root: Optional[TreeNode]) -> Optional[TreeNode]:\n",
    "        print(root)\n",
    "        if not root:\n",
    "            return None\n",
    "        temp=root.left\n",
    "        root.left=root.right\n",
    "        root.right=temp\n",
    "        self.invertTree(root.left)\n",
    "        self.invertTree(root.right)\n",
    "        return root"
   ]
  },
  {
   "cell_type": "code",
   "execution_count": null,
   "metadata": {},
   "outputs": [],
   "source": [
    "'''Lowest Common Ancestor of a Binary Search Tree\n",
    "Given a binary search tree (BST), find the lowest common ancestor (LCA) node of two given nodes in the BST.\n",
    "\n",
    "According to the definition of LCA on Wikipedia: “The lowest common ancestor is defined between two nodes \n",
    "p and q as the lowest node in T that has both p and q as descendants (where we allow a node to be a descendant of itself).”\n",
    "'''\n",
    "\n",
    "# Definition for a binary tree node.\n",
    "# class TreeNode:\n",
    "#     def __init__(self, x):\n",
    "#         self.val = x\n",
    "#         self.left = None\n",
    "#         self.right = None\n",
    "\n",
    "class Solution:\n",
    "    def lowestCommonAncestor(self, root: 'TreeNode', p: 'TreeNode', q: 'TreeNode') -> 'TreeNode':\n",
    "        while root:\n",
    "            print(root)\n",
    "            if p.val > root.val and q.val > root.val:\n",
    "                root=root.right\n",
    "                print(root)\n",
    "            elif p.val < root.val and q.val < root.val:\n",
    "                root=root.left\n",
    "                print(root)\n",
    "            else:\n",
    "                return root"
   ]
  },
  {
   "cell_type": "code",
   "execution_count": null,
   "metadata": {},
   "outputs": [],
   "source": [
    "'''Binary Tree Level Order Traversal\n",
    "Given the root of a binary tree, return the level order traversal of its nodes' values. (i.e., from left to right, level by level).\n",
    "'''\n",
    "# BREDTH FIRST SEARCH\n",
    "\n",
    "# Definition for a binary tree node.\n",
    "# class TreeNode:\n",
    "#     def __init__(self, val=0, left=None, right=None):\n",
    "#         self.val = val\n",
    "#         self.left = left\n",
    "#         self.right = right\n",
    "\n",
    "from collections import deque\n",
    "\n",
    "class Solution:\n",
    "    def levelOrder(self, root: Optional[TreeNode]) -> List[List[int]]:\n",
    "        res=[]\n",
    "        q = deque()\n",
    "        q.append(root)\n",
    "        print(q)\n",
    "\n",
    "        while q:\n",
    "            level=[]\n",
    "            for i in range(len(q)):\n",
    "                node=q.popleft()\n",
    "                print(node)\n",
    "                if node:\n",
    "                    level.append(node.val)\n",
    "                    q.append(node.left)\n",
    "                    q.append(node.right)\n",
    "            if level:\n",
    "                res.append(level)\n",
    "        return res"
   ]
  }
 ],
 "metadata": {
  "kernelspec": {
   "display_name": "base",
   "language": "python",
   "name": "python3"
  },
  "language_info": {
   "codemirror_mode": {
    "name": "ipython",
    "version": 3
   },
   "file_extension": ".py",
   "mimetype": "text/x-python",
   "name": "python",
   "nbconvert_exporter": "python",
   "pygments_lexer": "ipython3",
   "version": "3.10.9"
  },
  "orig_nbformat": 4
 },
 "nbformat": 4,
 "nbformat_minor": 2
}
